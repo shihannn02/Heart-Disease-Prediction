{
 "cells": [
  {
   "cell_type": "markdown",
   "metadata": {},
   "source": [
    "# Feature Preprocessing"
   ]
  },
  {
   "cell_type": "code",
   "execution_count": 1,
   "metadata": {},
   "outputs": [],
   "source": [
    "# import all necessary libraries\n",
    "import pandas as pd\n",
    "import numpy as np\n",
    "import matplotlib.pyplot as plt\n",
    "from sklearn.preprocessing import LabelEncoder\n",
    "from sklearn.model_selection import train_test_split\n",
    "from sklearn.metrics import make_scorer, f1_score, accuracy_score\n",
    "from sklearn.metrics import precision_score, recall_score\n",
    "from sklearn.metrics import confusion_matrix\n",
    "from imblearn.over_sampling import SMOTE\n",
    "from sklearn.linear_model import LogisticRegression\n",
    "from sklearn.ensemble import RandomForestRegressor\n",
    "from sklearn.ensemble import RandomForestClassifier\n",
    "import xgboost as xgb\n",
    "from sklearn.model_selection import GridSearchCV\n",
    "import sklearn.datasets\n",
    "from sklearn import metrics\n",
    "import os\n",
    "from ray.tune.schedulers import ASHAScheduler\n",
    "from ray import tune\n",
    "from ray import train\n",
    "\n",
    "import warnings\n",
    "warnings.filterwarnings(\"ignore\")"
   ]
  },
  {
   "cell_type": "code",
   "execution_count": null,
   "metadata": {},
   "outputs": [],
   "source": [
    "# read data and drop unecessary column patient_id\n",
    "data = pd.read_csv('heart_disease/'+ 'main.csv')\n",
    "data = data.drop(columns=['patient_id'])"
   ]
  },
  {
   "cell_type": "markdown",
   "metadata": {},
   "source": [
    "### check the basic data information"
   ]
  },
  {
   "cell_type": "code",
   "execution_count": 3,
   "metadata": {},
   "outputs": [
    {
     "name": "stdout",
     "output_type": "stream",
     "text": [
      "<class 'pandas.core.frame.DataFrame'>\n",
      "RangeIndex: 644 entries, 0 to 643\n",
      "Data columns (total 14 columns):\n",
      " #   Column    Non-Null Count  Dtype  \n",
      "---  ------    --------------  -----  \n",
      " 0   age       644 non-null    int64  \n",
      " 1   sex       644 non-null    object \n",
      " 2   cp        644 non-null    object \n",
      " 3   trestbps  606 non-null    float64\n",
      " 4   chol      622 non-null    float64\n",
      " 5   fbs       573 non-null    object \n",
      " 6   restecg   643 non-null    object \n",
      " 7   thalch    608 non-null    float64\n",
      " 8   exang     608 non-null    object \n",
      " 9   oldpeak   606 non-null    float64\n",
      " 10  slope     444 non-null    object \n",
      " 11  ca        221 non-null    float64\n",
      " 12  thal      307 non-null    object \n",
      " 13  num       644 non-null    int64  \n",
      "dtypes: float64(5), int64(2), object(7)\n",
      "memory usage: 70.6+ KB\n"
     ]
    }
   ],
   "source": [
    "# check the basic information of dataset\n",
    "data.info()"
   ]
  },
  {
   "cell_type": "code",
   "execution_count": 4,
   "metadata": {},
   "outputs": [
    {
     "name": "stdout",
     "output_type": "stream",
     "text": [
      "Number of object data: 7.\n",
      "They are: ['sex', 'cp', 'fbs', 'restecg', 'exang', 'slope', 'thal']\n",
      "\n",
      "Number of numeric data: 6.\n",
      "They are: ['age', 'trestbps', 'chol', 'thalch', 'oldpeak', 'ca']\n",
      "\n",
      "The ration of null in each column is:\n",
      "ca          0.656832\n",
      "thal        0.523292\n",
      "slope       0.310559\n",
      "fbs         0.110248\n",
      "trestbps    0.059006\n",
      "oldpeak     0.059006\n",
      "thalch      0.055901\n",
      "exang       0.055901\n",
      "chol        0.034161\n",
      "restecg     0.001553\n",
      "age         0.000000\n",
      "sex         0.000000\n",
      "cp          0.000000\n",
      "num         0.000000\n",
      "dtype: float64\n"
     ]
    }
   ],
   "source": [
    "# find out the object features\n",
    "object_data = data.select_dtypes(include=['object']).columns.to_list()\n",
    "print(f\"Number of object data: {len(object_data)}.\")\n",
    "print(f\"They are: {object_data}\\n\")\n",
    "\n",
    "# find out the numeric features\n",
    "numeric_data = data.select_dtypes(include=['int', \n",
    "                                           'float']).columns.to_list()\n",
    "numeric_data = [data for data in numeric_data if data != 'num']\n",
    "print(f'Number of numeric data: {len(numeric_data)}.')\n",
    "print(f'They are: {numeric_data}\\n')\n",
    "\n",
    "# check out the ratios of null values in each feature \n",
    "null_ratio = data.isnull().sum()/len(data)\n",
    "print('The ration of null in each column is:')\n",
    "print(null_ratio.sort_values(ascending=False))"
   ]
  },
  {
   "cell_type": "code",
   "execution_count": 5,
   "metadata": {},
   "outputs": [
    {
     "name": "stdout",
     "output_type": "stream",
     "text": [
      "Number of categories in feature \"sex\" is: 2\n",
      "Number of categories in feature \"cp\" is: 4\n",
      "Number of categories in feature \"fbs\" is: 3\n",
      "Number of categories in feature \"restecg\" is: 4\n",
      "Number of categories in feature \"exang\" is: 3\n",
      "Number of categories in feature \"slope\" is: 4\n",
      "Number of categories in feature \"thal\" is: 4\n"
     ]
    }
   ],
   "source": [
    "# check how many categories are there in each feature\n",
    "for col in object_data:\n",
    "    num = len(data[col].unique())\n",
    "    print(f'Number of categories in feature \"{col}\" is: {num}')"
   ]
  },
  {
   "cell_type": "markdown",
   "metadata": {},
   "source": [
    "### Use random forest to fill null values"
   ]
  },
  {
   "cell_type": "code",
   "execution_count": 6,
   "metadata": {},
   "outputs": [],
   "source": [
    "bool_cols = ['fbs', 'exang']"
   ]
  },
  {
   "cell_type": "code",
   "execution_count": 7,
   "metadata": {},
   "outputs": [],
   "source": [
    "# Use random forest to fill the null values (for category features)\n",
    "def rf_category(missing_col, data):\n",
    "\n",
    "    data_copy = data.copy()\n",
    "\n",
    "    # fill 0 those null value in numeric feature\n",
    "    data[numeric_data] = data[numeric_data].fillna(0,inplace=False)\n",
    "    \n",
    "    # one-hot encode to catergory feature\n",
    "    data_encoded = pd.get_dummies(data.drop(columns=[missing_col]))\n",
    "    data_encoded[missing_col] = data[missing_col]\n",
    "\n",
    "    # split train and test dataset\n",
    "    null_rows = data_encoded[data_encoded[missing_col].isnull()] \n",
    "    not_null_rows = data_encoded[~data_encoded[missing_col].isnull()] \n",
    "    \n",
    "    X_train = not_null_rows.drop(columns=[missing_col])\n",
    "    y_train = not_null_rows[missing_col]\n",
    "\n",
    "    X_test = null_rows.drop(columns=[missing_col])\n",
    "\n",
    "    # Handling Boolean type data\n",
    "    label_encoder = LabelEncoder()\n",
    "    if missing_col in bool_cols:\n",
    "        y_train = label_encoder.fit_transform(y_train)\n",
    "\n",
    "    # train a random forest to fill in null value\n",
    "    rf_classifier = RandomForestClassifier()\n",
    "    rf_classifier.fit(X_train, y_train)\n",
    "\n",
    "    # concat the train dataset and test dataset\n",
    "    data_copy.loc[X_test.index,missing_col]=rf_classifier.predict(X_test)\n",
    "    \n",
    "    return data_copy"
   ]
  },
  {
   "cell_type": "code",
   "execution_count": 8,
   "metadata": {},
   "outputs": [],
   "source": [
    "# Use random forest to fill the null values (for numeric features)\n",
    "def rf_numeric(missing_col, data):\n",
    "    \n",
    "    data_copy = data.copy()\n",
    "\n",
    "    # # fill 0 those null value in numeric feature\n",
    "    data_tmp = data.copy()\n",
    "    data_tmp[numeric_data]=data_tmp[numeric_data].fillna(0,inplace=False)\n",
    "    data_tmp[missing_col] = data[missing_col]\n",
    "\n",
    "    # one-hot encode to catergory feature\n",
    "    data_encoded = pd.get_dummies(data_tmp)\n",
    "\n",
    "    # split train and test dataset\n",
    "    null_rows = data_encoded[data_encoded[missing_col].isnull()] \n",
    "    not_null_rows = data_encoded[~data_encoded[missing_col].isnull()] \n",
    "\n",
    "    X_train = not_null_rows.drop(columns=[missing_col])\n",
    "    y_train = not_null_rows[missing_col]\n",
    "\n",
    "    X_test = null_rows.drop(columns=[missing_col])\n",
    "\n",
    "    # train a random forest to fill in null value\n",
    "    rf_classifier = RandomForestRegressor()\n",
    "    rf_classifier.fit(X_train, y_train)\n",
    "    null_rows[missing_col] = rf_classifier.predict(X_test)\n",
    "\n",
    "    # concat the train dataset and test dataset\n",
    "    data_copy.loc[X_test.index,missing_col]=rf_classifier.predict(X_test)\n",
    "\n",
    "    return data_copy"
   ]
  },
  {
   "cell_type": "code",
   "execution_count": 9,
   "metadata": {},
   "outputs": [],
   "source": [
    "def rf_missing_value(null_feature, data):\n",
    "\n",
    "    for feature in null_feature:\n",
    "\n",
    "        # if feature is numeric, then excute rf_numeric\n",
    "        if data[feature].dtypes in ['float64', 'int64'] :\n",
    "            data = rf_numeric(feature, data)\n",
    "        \n",
    "        # if feature is object, then excute rf_category\n",
    "        if data[feature].dtypes in ['object'] :\n",
    "            data = rf_category(feature, data)\n",
    "    \n",
    "    return data"
   ]
  },
  {
   "cell_type": "code",
   "execution_count": 10,
   "metadata": {},
   "outputs": [],
   "source": [
    "# find out the features that have null values\n",
    "# then sort them in decending order\n",
    "null_ratio = data.isnull().sum()\n",
    "sort_null_ratio = null_ratio.sort_values()\n",
    "null_feature = sort_null_ratio[null_ratio > 0].index.tolist()"
   ]
  },
  {
   "cell_type": "code",
   "execution_count": 11,
   "metadata": {},
   "outputs": [
    {
     "name": "stdout",
     "output_type": "stream",
     "text": [
      "<class 'pandas.core.frame.DataFrame'>\n",
      "RangeIndex: 644 entries, 0 to 643\n",
      "Data columns (total 14 columns):\n",
      " #   Column    Non-Null Count  Dtype  \n",
      "---  ------    --------------  -----  \n",
      " 0   age       644 non-null    int64  \n",
      " 1   sex       644 non-null    object \n",
      " 2   cp        644 non-null    object \n",
      " 3   trestbps  644 non-null    float64\n",
      " 4   chol      644 non-null    float64\n",
      " 5   fbs       644 non-null    object \n",
      " 6   restecg   644 non-null    object \n",
      " 7   thalch    644 non-null    float64\n",
      " 8   exang     644 non-null    object \n",
      " 9   oldpeak   644 non-null    float64\n",
      " 10  slope     644 non-null    object \n",
      " 11  ca        644 non-null    float64\n",
      " 12  thal      644 non-null    object \n",
      " 13  num       644 non-null    int64  \n",
      "dtypes: float64(5), int64(2), object(7)\n",
      "memory usage: 70.6+ KB\n"
     ]
    }
   ],
   "source": [
    "# deal with the missing values\n",
    "data = rf_missing_value(null_feature, data)\n",
    "\n",
    "# check again if there are null values now\n",
    "data.info()"
   ]
  },
  {
   "cell_type": "markdown",
   "metadata": {},
   "source": [
    "### Use one-hot to encode categorial data"
   ]
  },
  {
   "cell_type": "code",
   "execution_count": 12,
   "metadata": {},
   "outputs": [],
   "source": [
    "data_encoded = pd.get_dummies(data)"
   ]
  },
  {
   "cell_type": "markdown",
   "metadata": {},
   "source": [
    "### Dividing the dataset into training, validation,and test sets"
   ]
  },
  {
   "cell_type": "code",
   "execution_count": 13,
   "metadata": {},
   "outputs": [],
   "source": [
    "feature = data_encoded.drop(columns=['num'])\n",
    "label = data_encoded['num']\n",
    "\n",
    "X_trainval, X_test, y_trainval, y_test = train_test_split(feature,\n",
    "                             label, test_size=0.3,random_state=25)"
   ]
  },
  {
   "cell_type": "markdown",
   "metadata": {},
   "source": [
    "# Training Classifiers"
   ]
  },
  {
   "cell_type": "code",
   "execution_count": 14,
   "metadata": {},
   "outputs": [],
   "source": [
    "# customize a function for calculating accuracy\n",
    "def acc(gt, pred):\n",
    "    f1 = f1_score(gt, pred, average='macro')\n",
    "    accuracy = accuracy_score(gt, pred)\n",
    "    return 0.5 * (f1 + accuracy)\n",
    "\n",
    "custom_scorer = make_scorer(acc, greater_is_better=True)"
   ]
  },
  {
   "cell_type": "markdown",
   "metadata": {},
   "source": [
    "### Use logistic regression with grid search method"
   ]
  },
  {
   "cell_type": "code",
   "execution_count": 15,
   "metadata": {},
   "outputs": [
    {
     "name": "stdout",
     "output_type": "stream",
     "text": [
      "Best parameters: {'C': 1, 'penalty': 'l2', 'solver': 'liblinear'}\n",
      "Best score: 0.4630678533679144\n"
     ]
    }
   ],
   "source": [
    "# train a logistic regression model\n",
    "model = LogisticRegression()\n",
    "\n",
    "# define the parameters for grid searching\n",
    "param_grid = {\n",
    "    'C': [0.001, 0.005, 0.01, 0.05, 0.1, 0.5, 1, 5, 10, 50, 100],\n",
    "    'penalty': ['l1', 'l2'],\n",
    "    'solver': ['liblinear']  \n",
    "}\n",
    "\n",
    "lr = LogisticRegression()\n",
    "grid_search = GridSearchCV(lr, param_grid, cv=5, scoring=custom_scorer)\n",
    "grid_search.fit(X_trainval, y_trainval)\n",
    "\n",
    "print(\"Best parameters:\", grid_search.best_params_)\n",
    "print(\"Best score:\", grid_search.best_score_)\n"
   ]
  },
  {
   "cell_type": "code",
   "execution_count": 16,
   "metadata": {},
   "outputs": [
    {
     "name": "stdout",
     "output_type": "stream",
     "text": [
      "The score for test dataset is:  0.455107318503957\n"
     ]
    }
   ],
   "source": [
    "# use the model on test dataset\n",
    "test_score = grid_search.score(X_test,y_test)\n",
    "print(f'The score for test dataset is: ', test_score)"
   ]
  },
  {
   "cell_type": "markdown",
   "metadata": {},
   "source": [
    "### Use random forest with ray[tune] method"
   ]
  },
  {
   "cell_type": "code",
   "execution_count": 17,
   "metadata": {},
   "outputs": [],
   "source": [
    "X_train, X_tmp, y_train, y_tmp = train_test_split(feature, \n",
    "                    label, test_size=0.3, random_state=25)\n",
    "\n",
    "X_val, X_test, y_val, y_test = train_test_split(X_tmp, \n",
    "                y_tmp, test_size=0.33, random_state=25)"
   ]
  },
  {
   "cell_type": "code",
   "execution_count": 18,
   "metadata": {},
   "outputs": [
    {
     "data": {
      "text/html": [
       "<div class=\"tuneStatus\">\n",
       "  <div style=\"display: flex;flex-direction: row\">\n",
       "    <div style=\"display: flex;flex-direction: column;\">\n",
       "      <h3>Tune Status</h3>\n",
       "      <table>\n",
       "<tbody>\n",
       "<tr><td>Current time:</td><td>2024-03-16 16:09:13</td></tr>\n",
       "<tr><td>Running for: </td><td>00:00:08.94        </td></tr>\n",
       "<tr><td>Memory:      </td><td>14.6/16.0 GiB      </td></tr>\n",
       "</tbody>\n",
       "</table>\n",
       "    </div>\n",
       "    <div class=\"vDivider\"></div>\n",
       "    <div class=\"systemInfo\">\n",
       "      <h3>System Info</h3>\n",
       "      Using AsyncHyperBand: num_stopped=0<br>Bracket: Iter 80.000: None | Iter 40.000: None | Iter 20.000: None | Iter 10.000: None<br>Logical resource usage: 1.0/8 CPUs, 0/0 GPUs\n",
       "    </div>\n",
       "    <div class=\"vDivider\"></div>\n",
       "<div class=\"messages\">\n",
       "  <h3>Messages</h3>\n",
       "  : ***LOW MEMORY*** less than 10% of the memory on this node is available for use. This can cause unexpected crashes. Consider reducing the memory used by your application or reducing the Ray object store size by setting `object_store_memory` when calling `ray.init`.\n",
       "  \n",
       "  \n",
       "</div>\n",
       "<style>\n",
       ".messages {\n",
       "  color: var(--jp-ui-font-color1);\n",
       "  display: flex;\n",
       "  flex-direction: column;\n",
       "  padding-left: 1em;\n",
       "  overflow-y: auto;\n",
       "}\n",
       ".messages h3 {\n",
       "  font-weight: bold;\n",
       "}\n",
       ".vDivider {\n",
       "  border-left-width: var(--jp-border-width);\n",
       "  border-left-color: var(--jp-border-color0);\n",
       "  border-left-style: solid;\n",
       "  margin: 0.5em 1em 0.5em 1em;\n",
       "}\n",
       "</style>\n",
       "\n",
       "  </div>\n",
       "  <div class=\"hDivider\"></div>\n",
       "  <div class=\"trialStatus\">\n",
       "    <h3>Trial Status</h3>\n",
       "    <table>\n",
       "<thead>\n",
       "<tr><th>Trial name          </th><th>status    </th><th>loc            </th><th style=\"text-align: right;\">  max_depth</th><th style=\"text-align: right;\">  min_samples_leaf</th><th style=\"text-align: right;\">  min_samples_split</th><th style=\"text-align: right;\">  n_estimators</th><th style=\"text-align: right;\">  iter</th><th style=\"text-align: right;\">  total time (s)</th><th style=\"text-align: right;\">  accuracy</th></tr>\n",
       "</thead>\n",
       "<tbody>\n",
       "<tr><td>train_rf_73a64_00000</td><td>TERMINATED</td><td>127.0.0.1:44408</td><td style=\"text-align: right;\">         10</td><td style=\"text-align: right;\">                 2</td><td style=\"text-align: right;\">                  2</td><td style=\"text-align: right;\">           100</td><td style=\"text-align: right;\">     1</td><td style=\"text-align: right;\">       0.139446 </td><td style=\"text-align: right;\">  0.517339</td></tr>\n",
       "<tr><td>train_rf_73a64_00001</td><td>TERMINATED</td><td>127.0.0.1:44409</td><td style=\"text-align: right;\">         10</td><td style=\"text-align: right;\">                 1</td><td style=\"text-align: right;\">                  2</td><td style=\"text-align: right;\">           200</td><td style=\"text-align: right;\">     1</td><td style=\"text-align: right;\">       0.267547 </td><td style=\"text-align: right;\">  0.508297</td></tr>\n",
       "<tr><td>train_rf_73a64_00002</td><td>TERMINATED</td><td>127.0.0.1:44410</td><td style=\"text-align: right;\">         10</td><td style=\"text-align: right;\">                 2</td><td style=\"text-align: right;\">                  2</td><td style=\"text-align: right;\">           100</td><td style=\"text-align: right;\">     1</td><td style=\"text-align: right;\">       0.134036 </td><td style=\"text-align: right;\">  0.517339</td></tr>\n",
       "<tr><td>train_rf_73a64_00003</td><td>TERMINATED</td><td>127.0.0.1:44411</td><td style=\"text-align: right;\">         20</td><td style=\"text-align: right;\">                 1</td><td style=\"text-align: right;\">                 10</td><td style=\"text-align: right;\">            10</td><td style=\"text-align: right;\">     1</td><td style=\"text-align: right;\">       0.0361071</td><td style=\"text-align: right;\">  0.470748</td></tr>\n",
       "<tr><td>train_rf_73a64_00004</td><td>TERMINATED</td><td>127.0.0.1:44412</td><td style=\"text-align: right;\">         20</td><td style=\"text-align: right;\">                 2</td><td style=\"text-align: right;\">                  5</td><td style=\"text-align: right;\">           100</td><td style=\"text-align: right;\">     1</td><td style=\"text-align: right;\">       0.136569 </td><td style=\"text-align: right;\">  0.53494 </td></tr>\n",
       "<tr><td>train_rf_73a64_00005</td><td>TERMINATED</td><td>127.0.0.1:44413</td><td style=\"text-align: right;\">         20</td><td style=\"text-align: right;\">                 6</td><td style=\"text-align: right;\">                  2</td><td style=\"text-align: right;\">            10</td><td style=\"text-align: right;\">     1</td><td style=\"text-align: right;\">       0.018239 </td><td style=\"text-align: right;\">  0.413532</td></tr>\n",
       "<tr><td>train_rf_73a64_00006</td><td>TERMINATED</td><td>127.0.0.1:44414</td><td style=\"text-align: right;\">         20</td><td style=\"text-align: right;\">                 4</td><td style=\"text-align: right;\">                  2</td><td style=\"text-align: right;\">            10</td><td style=\"text-align: right;\">     1</td><td style=\"text-align: right;\">       0.0251372</td><td style=\"text-align: right;\">  0.501278</td></tr>\n",
       "<tr><td>train_rf_73a64_00007</td><td>TERMINATED</td><td>127.0.0.1:44415</td><td style=\"text-align: right;\">         10</td><td style=\"text-align: right;\">                 6</td><td style=\"text-align: right;\">                 10</td><td style=\"text-align: right;\">            50</td><td style=\"text-align: right;\">     1</td><td style=\"text-align: right;\">       0.0670669</td><td style=\"text-align: right;\">  0.494598</td></tr>\n",
       "<tr><td>train_rf_73a64_00008</td><td>TERMINATED</td><td>127.0.0.1:44411</td><td style=\"text-align: right;\">          5</td><td style=\"text-align: right;\">                 4</td><td style=\"text-align: right;\">                  2</td><td style=\"text-align: right;\">            50</td><td style=\"text-align: right;\">     1</td><td style=\"text-align: right;\">       0.0627141</td><td style=\"text-align: right;\">  0.521625</td></tr>\n",
       "<tr><td>train_rf_73a64_00009</td><td>TERMINATED</td><td>127.0.0.1:44414</td><td style=\"text-align: right;\">          5</td><td style=\"text-align: right;\">                 6</td><td style=\"text-align: right;\">                  2</td><td style=\"text-align: right;\">            50</td><td style=\"text-align: right;\">     1</td><td style=\"text-align: right;\">       0.060586 </td><td style=\"text-align: right;\">  0.47822 </td></tr>\n",
       "<tr><td>train_rf_73a64_00010</td><td>TERMINATED</td><td>127.0.0.1:44411</td><td style=\"text-align: right;\">         15</td><td style=\"text-align: right;\">                 6</td><td style=\"text-align: right;\">                  2</td><td style=\"text-align: right;\">            10</td><td style=\"text-align: right;\">     1</td><td style=\"text-align: right;\">       0.0163107</td><td style=\"text-align: right;\">  0.413532</td></tr>\n",
       "<tr><td>train_rf_73a64_00011</td><td>TERMINATED</td><td>127.0.0.1:44415</td><td style=\"text-align: right;\">         20</td><td style=\"text-align: right;\">                 6</td><td style=\"text-align: right;\">                  2</td><td style=\"text-align: right;\">           100</td><td style=\"text-align: right;\">     1</td><td style=\"text-align: right;\">       0.123653 </td><td style=\"text-align: right;\">  0.532908</td></tr>\n",
       "<tr><td>train_rf_73a64_00012</td><td>TERMINATED</td><td>127.0.0.1:44412</td><td style=\"text-align: right;\">         20</td><td style=\"text-align: right;\">                 1</td><td style=\"text-align: right;\">                  5</td><td style=\"text-align: right;\">           200</td><td style=\"text-align: right;\">     1</td><td style=\"text-align: right;\">       0.320986 </td><td style=\"text-align: right;\">  0.519221</td></tr>\n",
       "<tr><td>train_rf_73a64_00013</td><td>TERMINATED</td><td>127.0.0.1:44414</td><td style=\"text-align: right;\">         15</td><td style=\"text-align: right;\">                 2</td><td style=\"text-align: right;\">                  5</td><td style=\"text-align: right;\">           200</td><td style=\"text-align: right;\">     1</td><td style=\"text-align: right;\">       0.321949 </td><td style=\"text-align: right;\">  0.545075</td></tr>\n",
       "<tr><td>train_rf_73a64_00014</td><td>TERMINATED</td><td>127.0.0.1:44411</td><td style=\"text-align: right;\">          5</td><td style=\"text-align: right;\">                 6</td><td style=\"text-align: right;\">                  5</td><td style=\"text-align: right;\">           200</td><td style=\"text-align: right;\">     1</td><td style=\"text-align: right;\">       0.284231 </td><td style=\"text-align: right;\">  0.480068</td></tr>\n",
       "<tr><td>train_rf_73a64_00015</td><td>TERMINATED</td><td>127.0.0.1:44413</td><td style=\"text-align: right;\">         20</td><td style=\"text-align: right;\">                 1</td><td style=\"text-align: right;\">                  2</td><td style=\"text-align: right;\">            50</td><td style=\"text-align: right;\">     1</td><td style=\"text-align: right;\">       0.0716689</td><td style=\"text-align: right;\">  0.469506</td></tr>\n",
       "<tr><td>train_rf_73a64_00016</td><td>TERMINATED</td><td>127.0.0.1:44409</td><td style=\"text-align: right;\">         10</td><td style=\"text-align: right;\">                 6</td><td style=\"text-align: right;\">                  5</td><td style=\"text-align: right;\">           200</td><td style=\"text-align: right;\">     1</td><td style=\"text-align: right;\">       0.289966 </td><td style=\"text-align: right;\">  0.498802</td></tr>\n",
       "<tr><td>train_rf_73a64_00017</td><td>TERMINATED</td><td>127.0.0.1:44408</td><td style=\"text-align: right;\">         10</td><td style=\"text-align: right;\">                 4</td><td style=\"text-align: right;\">                  5</td><td style=\"text-align: right;\">           100</td><td style=\"text-align: right;\">     1</td><td style=\"text-align: right;\">       0.117223 </td><td style=\"text-align: right;\">  0.564634</td></tr>\n",
       "<tr><td>train_rf_73a64_00018</td><td>TERMINATED</td><td>127.0.0.1:44413</td><td style=\"text-align: right;\">         10</td><td style=\"text-align: right;\">                 1</td><td style=\"text-align: right;\">                  5</td><td style=\"text-align: right;\">            50</td><td style=\"text-align: right;\">     1</td><td style=\"text-align: right;\">       0.0925601</td><td style=\"text-align: right;\">  0.514102</td></tr>\n",
       "<tr><td>train_rf_73a64_00019</td><td>TERMINATED</td><td>127.0.0.1:44415</td><td style=\"text-align: right;\">         10</td><td style=\"text-align: right;\">                 4</td><td style=\"text-align: right;\">                 10</td><td style=\"text-align: right;\">            50</td><td style=\"text-align: right;\">     1</td><td style=\"text-align: right;\">       0.0897911</td><td style=\"text-align: right;\">  0.537999</td></tr>\n",
       "<tr><td>train_rf_73a64_00020</td><td>TERMINATED</td><td>127.0.0.1:44413</td><td style=\"text-align: right;\">         15</td><td style=\"text-align: right;\">                 1</td><td style=\"text-align: right;\">                 10</td><td style=\"text-align: right;\">            50</td><td style=\"text-align: right;\">     1</td><td style=\"text-align: right;\">       0.0671031</td><td style=\"text-align: right;\">  0.494821</td></tr>\n",
       "<tr><td>train_rf_73a64_00021</td><td>TERMINATED</td><td>127.0.0.1:44412</td><td style=\"text-align: right;\">          5</td><td style=\"text-align: right;\">                 2</td><td style=\"text-align: right;\">                  2</td><td style=\"text-align: right;\">            10</td><td style=\"text-align: right;\">     1</td><td style=\"text-align: right;\">       0.0201478</td><td style=\"text-align: right;\">  0.445445</td></tr>\n",
       "<tr><td>train_rf_73a64_00022</td><td>TERMINATED</td><td>127.0.0.1:44411</td><td style=\"text-align: right;\">         10</td><td style=\"text-align: right;\">                 4</td><td style=\"text-align: right;\">                 10</td><td style=\"text-align: right;\">            10</td><td style=\"text-align: right;\">     1</td><td style=\"text-align: right;\">       0.0178099</td><td style=\"text-align: right;\">  0.468882</td></tr>\n",
       "<tr><td>train_rf_73a64_00023</td><td>TERMINATED</td><td>127.0.0.1:44410</td><td style=\"text-align: right;\">          5</td><td style=\"text-align: right;\">                 2</td><td style=\"text-align: right;\">                  2</td><td style=\"text-align: right;\">            50</td><td style=\"text-align: right;\">     1</td><td style=\"text-align: right;\">       0.0719249</td><td style=\"text-align: right;\">  0.492617</td></tr>\n",
       "<tr><td>train_rf_73a64_00024</td><td>TERMINATED</td><td>127.0.0.1:44413</td><td style=\"text-align: right;\">          5</td><td style=\"text-align: right;\">                 1</td><td style=\"text-align: right;\">                  5</td><td style=\"text-align: right;\">           100</td><td style=\"text-align: right;\">     1</td><td style=\"text-align: right;\">       0.130593 </td><td style=\"text-align: right;\">  0.488894</td></tr>\n",
       "<tr><td>train_rf_73a64_00025</td><td>TERMINATED</td><td>127.0.0.1:44415</td><td style=\"text-align: right;\">         15</td><td style=\"text-align: right;\">                 4</td><td style=\"text-align: right;\">                  2</td><td style=\"text-align: right;\">            10</td><td style=\"text-align: right;\">     1</td><td style=\"text-align: right;\">       0.0181279</td><td style=\"text-align: right;\">  0.501278</td></tr>\n",
       "<tr><td>train_rf_73a64_00026</td><td>TERMINATED</td><td>127.0.0.1:44415</td><td style=\"text-align: right;\">         10</td><td style=\"text-align: right;\">                 1</td><td style=\"text-align: right;\">                  5</td><td style=\"text-align: right;\">           100</td><td style=\"text-align: right;\">     1</td><td style=\"text-align: right;\">       0.149019 </td><td style=\"text-align: right;\">  0.511596</td></tr>\n",
       "<tr><td>train_rf_73a64_00027</td><td>TERMINATED</td><td>127.0.0.1:44412</td><td style=\"text-align: right;\">          5</td><td style=\"text-align: right;\">                 1</td><td style=\"text-align: right;\">                 10</td><td style=\"text-align: right;\">            10</td><td style=\"text-align: right;\">     1</td><td style=\"text-align: right;\">       0.0226619</td><td style=\"text-align: right;\">  0.44359 </td></tr>\n",
       "<tr><td>train_rf_73a64_00028</td><td>TERMINATED</td><td>127.0.0.1:44408</td><td style=\"text-align: right;\">         20</td><td style=\"text-align: right;\">                 2</td><td style=\"text-align: right;\">                 10</td><td style=\"text-align: right;\">           200</td><td style=\"text-align: right;\">     1</td><td style=\"text-align: right;\">       0.299414 </td><td style=\"text-align: right;\">  0.492848</td></tr>\n",
       "<tr><td>train_rf_73a64_00029</td><td>TERMINATED</td><td>127.0.0.1:44410</td><td style=\"text-align: right;\">         15</td><td style=\"text-align: right;\">                 2</td><td style=\"text-align: right;\">                  2</td><td style=\"text-align: right;\">           200</td><td style=\"text-align: right;\">     1</td><td style=\"text-align: right;\">       0.252427 </td><td style=\"text-align: right;\">  0.495737</td></tr>\n",
       "<tr><td>train_rf_73a64_00030</td><td>TERMINATED</td><td>127.0.0.1:44410</td><td style=\"text-align: right;\">         20</td><td style=\"text-align: right;\">                 4</td><td style=\"text-align: right;\">                  2</td><td style=\"text-align: right;\">            10</td><td style=\"text-align: right;\">     1</td><td style=\"text-align: right;\">       0.0165939</td><td style=\"text-align: right;\">  0.501278</td></tr>\n",
       "<tr><td>train_rf_73a64_00031</td><td>TERMINATED</td><td>127.0.0.1:44408</td><td style=\"text-align: right;\">         10</td><td style=\"text-align: right;\">                 4</td><td style=\"text-align: right;\">                  2</td><td style=\"text-align: right;\">            10</td><td style=\"text-align: right;\">     1</td><td style=\"text-align: right;\">       0.0231121</td><td style=\"text-align: right;\">  0.516296</td></tr>\n",
       "<tr><td>train_rf_73a64_00032</td><td>TERMINATED</td><td>127.0.0.1:44410</td><td style=\"text-align: right;\">         20</td><td style=\"text-align: right;\">                 4</td><td style=\"text-align: right;\">                  2</td><td style=\"text-align: right;\">           100</td><td style=\"text-align: right;\">     1</td><td style=\"text-align: right;\">       0.137227 </td><td style=\"text-align: right;\">  0.55222 </td></tr>\n",
       "<tr><td>train_rf_73a64_00033</td><td>TERMINATED</td><td>127.0.0.1:44409</td><td style=\"text-align: right;\">          5</td><td style=\"text-align: right;\">                 4</td><td style=\"text-align: right;\">                  2</td><td style=\"text-align: right;\">           100</td><td style=\"text-align: right;\">     1</td><td style=\"text-align: right;\">       0.113913 </td><td style=\"text-align: right;\">  0.516203</td></tr>\n",
       "<tr><td>train_rf_73a64_00034</td><td>TERMINATED</td><td>127.0.0.1:44412</td><td style=\"text-align: right;\">         20</td><td style=\"text-align: right;\">                 2</td><td style=\"text-align: right;\">                  2</td><td style=\"text-align: right;\">            10</td><td style=\"text-align: right;\">     1</td><td style=\"text-align: right;\">       0.017648 </td><td style=\"text-align: right;\">  0.54156 </td></tr>\n",
       "<tr><td>train_rf_73a64_00035</td><td>TERMINATED</td><td>127.0.0.1:44415</td><td style=\"text-align: right;\">         10</td><td style=\"text-align: right;\">                 1</td><td style=\"text-align: right;\">                  5</td><td style=\"text-align: right;\">            50</td><td style=\"text-align: right;\">     1</td><td style=\"text-align: right;\">       0.0635891</td><td style=\"text-align: right;\">  0.514102</td></tr>\n",
       "<tr><td>train_rf_73a64_00036</td><td>TERMINATED</td><td>127.0.0.1:44408</td><td style=\"text-align: right;\">          5</td><td style=\"text-align: right;\">                 2</td><td style=\"text-align: right;\">                  5</td><td style=\"text-align: right;\">            50</td><td style=\"text-align: right;\">     1</td><td style=\"text-align: right;\">       0.0719831</td><td style=\"text-align: right;\">  0.485268</td></tr>\n",
       "<tr><td>train_rf_73a64_00037</td><td>TERMINATED</td><td>127.0.0.1:44414</td><td style=\"text-align: right;\">         10</td><td style=\"text-align: right;\">                 2</td><td style=\"text-align: right;\">                  5</td><td style=\"text-align: right;\">           100</td><td style=\"text-align: right;\">     1</td><td style=\"text-align: right;\">       0.127307 </td><td style=\"text-align: right;\">  0.527602</td></tr>\n",
       "<tr><td>train_rf_73a64_00038</td><td>TERMINATED</td><td>127.0.0.1:44414</td><td style=\"text-align: right;\">          5</td><td style=\"text-align: right;\">                 6</td><td style=\"text-align: right;\">                 10</td><td style=\"text-align: right;\">           100</td><td style=\"text-align: right;\">     1</td><td style=\"text-align: right;\">       0.112926 </td><td style=\"text-align: right;\">  0.485865</td></tr>\n",
       "<tr><td>train_rf_73a64_00039</td><td>TERMINATED</td><td>127.0.0.1:44415</td><td style=\"text-align: right;\">          5</td><td style=\"text-align: right;\">                 4</td><td style=\"text-align: right;\">                  5</td><td style=\"text-align: right;\">            10</td><td style=\"text-align: right;\">     1</td><td style=\"text-align: right;\">       0.0227799</td><td style=\"text-align: right;\">  0.45813 </td></tr>\n",
       "<tr><td>train_rf_73a64_00040</td><td>TERMINATED</td><td>127.0.0.1:44408</td><td style=\"text-align: right;\">          5</td><td style=\"text-align: right;\">                 2</td><td style=\"text-align: right;\">                  2</td><td style=\"text-align: right;\">            50</td><td style=\"text-align: right;\">     1</td><td style=\"text-align: right;\">       0.057533 </td><td style=\"text-align: right;\">  0.492617</td></tr>\n",
       "<tr><td>train_rf_73a64_00041</td><td>TERMINATED</td><td>127.0.0.1:44411</td><td style=\"text-align: right;\">         15</td><td style=\"text-align: right;\">                 4</td><td style=\"text-align: right;\">                  5</td><td style=\"text-align: right;\">           100</td><td style=\"text-align: right;\">     1</td><td style=\"text-align: right;\">       0.122487 </td><td style=\"text-align: right;\">  0.55222 </td></tr>\n",
       "<tr><td>train_rf_73a64_00042</td><td>TERMINATED</td><td>127.0.0.1:44413</td><td style=\"text-align: right;\">          5</td><td style=\"text-align: right;\">                 1</td><td style=\"text-align: right;\">                  2</td><td style=\"text-align: right;\">           100</td><td style=\"text-align: right;\">     1</td><td style=\"text-align: right;\">       0.113237 </td><td style=\"text-align: right;\">  0.525839</td></tr>\n",
       "<tr><td>train_rf_73a64_00043</td><td>TERMINATED</td><td>127.0.0.1:44412</td><td style=\"text-align: right;\">         10</td><td style=\"text-align: right;\">                 6</td><td style=\"text-align: right;\">                  2</td><td style=\"text-align: right;\">            50</td><td style=\"text-align: right;\">     1</td><td style=\"text-align: right;\">       0.0587928</td><td style=\"text-align: right;\">  0.494598</td></tr>\n",
       "<tr><td>train_rf_73a64_00044</td><td>TERMINATED</td><td>127.0.0.1:44412</td><td style=\"text-align: right;\">         10</td><td style=\"text-align: right;\">                 6</td><td style=\"text-align: right;\">                  2</td><td style=\"text-align: right;\">           200</td><td style=\"text-align: right;\">     1</td><td style=\"text-align: right;\">       0.233725 </td><td style=\"text-align: right;\">  0.498802</td></tr>\n",
       "<tr><td>train_rf_73a64_00045</td><td>TERMINATED</td><td>127.0.0.1:44409</td><td style=\"text-align: right;\">         15</td><td style=\"text-align: right;\">                 6</td><td style=\"text-align: right;\">                  5</td><td style=\"text-align: right;\">            10</td><td style=\"text-align: right;\">     1</td><td style=\"text-align: right;\">       0.0162868</td><td style=\"text-align: right;\">  0.413532</td></tr>\n",
       "<tr><td>train_rf_73a64_00046</td><td>TERMINATED</td><td>127.0.0.1:44411</td><td style=\"text-align: right;\">          5</td><td style=\"text-align: right;\">                 1</td><td style=\"text-align: right;\">                  5</td><td style=\"text-align: right;\">            50</td><td style=\"text-align: right;\">     1</td><td style=\"text-align: right;\">       0.0605879</td><td style=\"text-align: right;\">  0.501793</td></tr>\n",
       "<tr><td>train_rf_73a64_00047</td><td>TERMINATED</td><td>127.0.0.1:44413</td><td style=\"text-align: right;\">         10</td><td style=\"text-align: right;\">                 4</td><td style=\"text-align: right;\">                 10</td><td style=\"text-align: right;\">           200</td><td style=\"text-align: right;\">     1</td><td style=\"text-align: right;\">       0.248252 </td><td style=\"text-align: right;\">  0.566422</td></tr>\n",
       "<tr><td>train_rf_73a64_00048</td><td>TERMINATED</td><td>127.0.0.1:44412</td><td style=\"text-align: right;\">         20</td><td style=\"text-align: right;\">                 1</td><td style=\"text-align: right;\">                 10</td><td style=\"text-align: right;\">            50</td><td style=\"text-align: right;\">     1</td><td style=\"text-align: right;\">       0.061588 </td><td style=\"text-align: right;\">  0.504653</td></tr>\n",
       "<tr><td>train_rf_73a64_00049</td><td>TERMINATED</td><td>127.0.0.1:44409</td><td style=\"text-align: right;\">         15</td><td style=\"text-align: right;\">                 4</td><td style=\"text-align: right;\">                  2</td><td style=\"text-align: right;\">            50</td><td style=\"text-align: right;\">     1</td><td style=\"text-align: right;\">       0.0809181</td><td style=\"text-align: right;\">  0.547179</td></tr>\n",
       "<tr><td>train_rf_73a64_00050</td><td>TERMINATED</td><td>127.0.0.1:44409</td><td style=\"text-align: right;\">         20</td><td style=\"text-align: right;\">                 4</td><td style=\"text-align: right;\">                 10</td><td style=\"text-align: right;\">            10</td><td style=\"text-align: right;\">     1</td><td style=\"text-align: right;\">       0.0248349</td><td style=\"text-align: right;\">  0.469373</td></tr>\n",
       "<tr><td>train_rf_73a64_00051</td><td>TERMINATED</td><td>127.0.0.1:44412</td><td style=\"text-align: right;\">          5</td><td style=\"text-align: right;\">                 1</td><td style=\"text-align: right;\">                  2</td><td style=\"text-align: right;\">            10</td><td style=\"text-align: right;\">     1</td><td style=\"text-align: right;\">       0.0249557</td><td style=\"text-align: right;\">  0.442831</td></tr>\n",
       "<tr><td>train_rf_73a64_00052</td><td>TERMINATED</td><td>127.0.0.1:44415</td><td style=\"text-align: right;\">         10</td><td style=\"text-align: right;\">                 1</td><td style=\"text-align: right;\">                  2</td><td style=\"text-align: right;\">            50</td><td style=\"text-align: right;\">     1</td><td style=\"text-align: right;\">       0.064842 </td><td style=\"text-align: right;\">  0.533257</td></tr>\n",
       "<tr><td>train_rf_73a64_00053</td><td>TERMINATED</td><td>127.0.0.1:44411</td><td style=\"text-align: right;\">          5</td><td style=\"text-align: right;\">                 4</td><td style=\"text-align: right;\">                  2</td><td style=\"text-align: right;\">           200</td><td style=\"text-align: right;\">     1</td><td style=\"text-align: right;\">       0.199072 </td><td style=\"text-align: right;\">  0.4977  </td></tr>\n",
       "<tr><td>train_rf_73a64_00054</td><td>TERMINATED</td><td>127.0.0.1:44410</td><td style=\"text-align: right;\">          5</td><td style=\"text-align: right;\">                 4</td><td style=\"text-align: right;\">                 10</td><td style=\"text-align: right;\">           100</td><td style=\"text-align: right;\">     1</td><td style=\"text-align: right;\">       0.131685 </td><td style=\"text-align: right;\">  0.481662</td></tr>\n",
       "<tr><td>train_rf_73a64_00055</td><td>TERMINATED</td><td>127.0.0.1:44415</td><td style=\"text-align: right;\">         15</td><td style=\"text-align: right;\">                 6</td><td style=\"text-align: right;\">                  5</td><td style=\"text-align: right;\">            50</td><td style=\"text-align: right;\">     1</td><td style=\"text-align: right;\">       0.0602717</td><td style=\"text-align: right;\">  0.510274</td></tr>\n",
       "<tr><td>train_rf_73a64_00056</td><td>TERMINATED</td><td>127.0.0.1:44409</td><td style=\"text-align: right;\">         20</td><td style=\"text-align: right;\">                 6</td><td style=\"text-align: right;\">                  5</td><td style=\"text-align: right;\">            50</td><td style=\"text-align: right;\">     1</td><td style=\"text-align: right;\">       0.0683253</td><td style=\"text-align: right;\">  0.510274</td></tr>\n",
       "<tr><td>train_rf_73a64_00057</td><td>TERMINATED</td><td>127.0.0.1:44408</td><td style=\"text-align: right;\">         15</td><td style=\"text-align: right;\">                 2</td><td style=\"text-align: right;\">                  5</td><td style=\"text-align: right;\">            10</td><td style=\"text-align: right;\">     1</td><td style=\"text-align: right;\">       0.0153852</td><td style=\"text-align: right;\">  0.485523</td></tr>\n",
       "<tr><td>train_rf_73a64_00058</td><td>TERMINATED</td><td>127.0.0.1:44408</td><td style=\"text-align: right;\">         10</td><td style=\"text-align: right;\">                 6</td><td style=\"text-align: right;\">                  2</td><td style=\"text-align: right;\">           100</td><td style=\"text-align: right;\">     1</td><td style=\"text-align: right;\">       0.124466 </td><td style=\"text-align: right;\">  0.532908</td></tr>\n",
       "<tr><td>train_rf_73a64_00059</td><td>TERMINATED</td><td>127.0.0.1:44412</td><td style=\"text-align: right;\">          5</td><td style=\"text-align: right;\">                 1</td><td style=\"text-align: right;\">                  2</td><td style=\"text-align: right;\">           100</td><td style=\"text-align: right;\">     1</td><td style=\"text-align: right;\">       0.107438 </td><td style=\"text-align: right;\">  0.525839</td></tr>\n",
       "<tr><td>train_rf_73a64_00060</td><td>TERMINATED</td><td>127.0.0.1:44411</td><td style=\"text-align: right;\">          5</td><td style=\"text-align: right;\">                 2</td><td style=\"text-align: right;\">                  2</td><td style=\"text-align: right;\">            10</td><td style=\"text-align: right;\">     1</td><td style=\"text-align: right;\">       0.022455 </td><td style=\"text-align: right;\">  0.445445</td></tr>\n",
       "<tr><td>train_rf_73a64_00061</td><td>TERMINATED</td><td>127.0.0.1:44414</td><td style=\"text-align: right;\">         10</td><td style=\"text-align: right;\">                 2</td><td style=\"text-align: right;\">                  2</td><td style=\"text-align: right;\">           100</td><td style=\"text-align: right;\">     1</td><td style=\"text-align: right;\">       0.135356 </td><td style=\"text-align: right;\">  0.517339</td></tr>\n",
       "<tr><td>train_rf_73a64_00062</td><td>TERMINATED</td><td>127.0.0.1:44415</td><td style=\"text-align: right;\">         15</td><td style=\"text-align: right;\">                 6</td><td style=\"text-align: right;\">                  5</td><td style=\"text-align: right;\">            10</td><td style=\"text-align: right;\">     1</td><td style=\"text-align: right;\">       0.0141718</td><td style=\"text-align: right;\">  0.413532</td></tr>\n",
       "<tr><td>train_rf_73a64_00063</td><td>TERMINATED</td><td>127.0.0.1:44413</td><td style=\"text-align: right;\">         20</td><td style=\"text-align: right;\">                 4</td><td style=\"text-align: right;\">                  5</td><td style=\"text-align: right;\">            50</td><td style=\"text-align: right;\">     1</td><td style=\"text-align: right;\">       0.0617039</td><td style=\"text-align: right;\">  0.547179</td></tr>\n",
       "<tr><td>train_rf_73a64_00064</td><td>TERMINATED</td><td>127.0.0.1:44410</td><td style=\"text-align: right;\">         20</td><td style=\"text-align: right;\">                 2</td><td style=\"text-align: right;\">                  2</td><td style=\"text-align: right;\">           200</td><td style=\"text-align: right;\">     1</td><td style=\"text-align: right;\">       0.27551  </td><td style=\"text-align: right;\">  0.501989</td></tr>\n",
       "<tr><td>train_rf_73a64_00065</td><td>TERMINATED</td><td>127.0.0.1:44408</td><td style=\"text-align: right;\">         10</td><td style=\"text-align: right;\">                 2</td><td style=\"text-align: right;\">                 10</td><td style=\"text-align: right;\">           200</td><td style=\"text-align: right;\">     1</td><td style=\"text-align: right;\">       0.2264   </td><td style=\"text-align: right;\">  0.558706</td></tr>\n",
       "<tr><td>train_rf_73a64_00066</td><td>TERMINATED</td><td>127.0.0.1:44409</td><td style=\"text-align: right;\">         20</td><td style=\"text-align: right;\">                 6</td><td style=\"text-align: right;\">                  2</td><td style=\"text-align: right;\">           100</td><td style=\"text-align: right;\">     1</td><td style=\"text-align: right;\">       0.111895 </td><td style=\"text-align: right;\">  0.532908</td></tr>\n",
       "<tr><td>train_rf_73a64_00067</td><td>TERMINATED</td><td>127.0.0.1:44414</td><td style=\"text-align: right;\">         10</td><td style=\"text-align: right;\">                 6</td><td style=\"text-align: right;\">                 10</td><td style=\"text-align: right;\">           100</td><td style=\"text-align: right;\">     1</td><td style=\"text-align: right;\">       0.123804 </td><td style=\"text-align: right;\">  0.532908</td></tr>\n",
       "<tr><td>train_rf_73a64_00068</td><td>TERMINATED</td><td>127.0.0.1:44411</td><td style=\"text-align: right;\">          5</td><td style=\"text-align: right;\">                 2</td><td style=\"text-align: right;\">                 10</td><td style=\"text-align: right;\">            10</td><td style=\"text-align: right;\">     1</td><td style=\"text-align: right;\">       0.0152199</td><td style=\"text-align: right;\">  0.460994</td></tr>\n",
       "<tr><td>train_rf_73a64_00069</td><td>TERMINATED</td><td>127.0.0.1:44409</td><td style=\"text-align: right;\">         10</td><td style=\"text-align: right;\">                 2</td><td style=\"text-align: right;\">                  5</td><td style=\"text-align: right;\">            10</td><td style=\"text-align: right;\">     1</td><td style=\"text-align: right;\">       0.0233362</td><td style=\"text-align: right;\">  0.493248</td></tr>\n",
       "<tr><td>train_rf_73a64_00070</td><td>TERMINATED</td><td>127.0.0.1:44408</td><td style=\"text-align: right;\">          5</td><td style=\"text-align: right;\">                 4</td><td style=\"text-align: right;\">                  5</td><td style=\"text-align: right;\">           100</td><td style=\"text-align: right;\">     1</td><td style=\"text-align: right;\">       0.123627 </td><td style=\"text-align: right;\">  0.516203</td></tr>\n",
       "<tr><td>train_rf_73a64_00071</td><td>TERMINATED</td><td>127.0.0.1:44414</td><td style=\"text-align: right;\">         10</td><td style=\"text-align: right;\">                 6</td><td style=\"text-align: right;\">                  2</td><td style=\"text-align: right;\">            10</td><td style=\"text-align: right;\">     1</td><td style=\"text-align: right;\">       0.016243 </td><td style=\"text-align: right;\">  0.427431</td></tr>\n",
       "<tr><td>train_rf_73a64_00072</td><td>TERMINATED</td><td>127.0.0.1:44414</td><td style=\"text-align: right;\">         10</td><td style=\"text-align: right;\">                 4</td><td style=\"text-align: right;\">                  5</td><td style=\"text-align: right;\">            10</td><td style=\"text-align: right;\">     1</td><td style=\"text-align: right;\">       0.0156202</td><td style=\"text-align: right;\">  0.516296</td></tr>\n",
       "<tr><td>train_rf_73a64_00073</td><td>TERMINATED</td><td>127.0.0.1:44411</td><td style=\"text-align: right;\">         10</td><td style=\"text-align: right;\">                 6</td><td style=\"text-align: right;\">                  5</td><td style=\"text-align: right;\">            10</td><td style=\"text-align: right;\">     1</td><td style=\"text-align: right;\">       0.0197179</td><td style=\"text-align: right;\">  0.427431</td></tr>\n",
       "<tr><td>train_rf_73a64_00074</td><td>TERMINATED</td><td>127.0.0.1:44409</td><td style=\"text-align: right;\">          5</td><td style=\"text-align: right;\">                 1</td><td style=\"text-align: right;\">                 10</td><td style=\"text-align: right;\">            50</td><td style=\"text-align: right;\">     1</td><td style=\"text-align: right;\">       0.07075  </td><td style=\"text-align: right;\">  0.50466 </td></tr>\n",
       "<tr><td>train_rf_73a64_00075</td><td>TERMINATED</td><td>127.0.0.1:44411</td><td style=\"text-align: right;\">          5</td><td style=\"text-align: right;\">                 2</td><td style=\"text-align: right;\">                  2</td><td style=\"text-align: right;\">            10</td><td style=\"text-align: right;\">     1</td><td style=\"text-align: right;\">       0.0206952</td><td style=\"text-align: right;\">  0.445445</td></tr>\n",
       "<tr><td>train_rf_73a64_00076</td><td>TERMINATED</td><td>127.0.0.1:44415</td><td style=\"text-align: right;\">         10</td><td style=\"text-align: right;\">                 4</td><td style=\"text-align: right;\">                 10</td><td style=\"text-align: right;\">           100</td><td style=\"text-align: right;\">     1</td><td style=\"text-align: right;\">       0.129693 </td><td style=\"text-align: right;\">  0.542802</td></tr>\n",
       "<tr><td>train_rf_73a64_00077</td><td>TERMINATED</td><td>127.0.0.1:44415</td><td style=\"text-align: right;\">          5</td><td style=\"text-align: right;\">                 4</td><td style=\"text-align: right;\">                  2</td><td style=\"text-align: right;\">            10</td><td style=\"text-align: right;\">     1</td><td style=\"text-align: right;\">       0.015594 </td><td style=\"text-align: right;\">  0.45813 </td></tr>\n",
       "<tr><td>train_rf_73a64_00078</td><td>TERMINATED</td><td>127.0.0.1:44410</td><td style=\"text-align: right;\">         15</td><td style=\"text-align: right;\">                 2</td><td style=\"text-align: right;\">                 10</td><td style=\"text-align: right;\">            10</td><td style=\"text-align: right;\">     1</td><td style=\"text-align: right;\">       0.0187728</td><td style=\"text-align: right;\">  0.446255</td></tr>\n",
       "<tr><td>train_rf_73a64_00079</td><td>TERMINATED</td><td>127.0.0.1:44415</td><td style=\"text-align: right;\">          5</td><td style=\"text-align: right;\">                 2</td><td style=\"text-align: right;\">                  5</td><td style=\"text-align: right;\">           100</td><td style=\"text-align: right;\">     1</td><td style=\"text-align: right;\">       0.109609 </td><td style=\"text-align: right;\">  0.529262</td></tr>\n",
       "<tr><td>train_rf_73a64_00080</td><td>TERMINATED</td><td>127.0.0.1:44414</td><td style=\"text-align: right;\">         20</td><td style=\"text-align: right;\">                 4</td><td style=\"text-align: right;\">                  5</td><td style=\"text-align: right;\">            10</td><td style=\"text-align: right;\">     1</td><td style=\"text-align: right;\">       0.0171421</td><td style=\"text-align: right;\">  0.501278</td></tr>\n",
       "<tr><td>train_rf_73a64_00081</td><td>TERMINATED</td><td>127.0.0.1:44412</td><td style=\"text-align: right;\">         15</td><td style=\"text-align: right;\">                 2</td><td style=\"text-align: right;\">                  5</td><td style=\"text-align: right;\">           100</td><td style=\"text-align: right;\">     1</td><td style=\"text-align: right;\">       0.12762  </td><td style=\"text-align: right;\">  0.521686</td></tr>\n",
       "<tr><td>train_rf_73a64_00082</td><td>TERMINATED</td><td>127.0.0.1:44409</td><td style=\"text-align: right;\">          5</td><td style=\"text-align: right;\">                 6</td><td style=\"text-align: right;\">                 10</td><td style=\"text-align: right;\">            50</td><td style=\"text-align: right;\">     1</td><td style=\"text-align: right;\">       0.0560877</td><td style=\"text-align: right;\">  0.47822 </td></tr>\n",
       "<tr><td>train_rf_73a64_00083</td><td>TERMINATED</td><td>127.0.0.1:44409</td><td style=\"text-align: right;\">         10</td><td style=\"text-align: right;\">                 2</td><td style=\"text-align: right;\">                  5</td><td style=\"text-align: right;\">            10</td><td style=\"text-align: right;\">     1</td><td style=\"text-align: right;\">       0.0228033</td><td style=\"text-align: right;\">  0.493248</td></tr>\n",
       "<tr><td>train_rf_73a64_00084</td><td>TERMINATED</td><td>127.0.0.1:44412</td><td style=\"text-align: right;\">          5</td><td style=\"text-align: right;\">                 1</td><td style=\"text-align: right;\">                 10</td><td style=\"text-align: right;\">            50</td><td style=\"text-align: right;\">     1</td><td style=\"text-align: right;\">       0.0621068</td><td style=\"text-align: right;\">  0.50466 </td></tr>\n",
       "<tr><td>train_rf_73a64_00085</td><td>TERMINATED</td><td>127.0.0.1:44412</td><td style=\"text-align: right;\">         10</td><td style=\"text-align: right;\">                 6</td><td style=\"text-align: right;\">                  5</td><td style=\"text-align: right;\">           200</td><td style=\"text-align: right;\">     1</td><td style=\"text-align: right;\">       0.242485 </td><td style=\"text-align: right;\">  0.498802</td></tr>\n",
       "<tr><td>train_rf_73a64_00086</td><td>TERMINATED</td><td>127.0.0.1:44408</td><td style=\"text-align: right;\">          5</td><td style=\"text-align: right;\">                 1</td><td style=\"text-align: right;\">                  2</td><td style=\"text-align: right;\">           100</td><td style=\"text-align: right;\">     1</td><td style=\"text-align: right;\">       0.120963 </td><td style=\"text-align: right;\">  0.525839</td></tr>\n",
       "<tr><td>train_rf_73a64_00087</td><td>TERMINATED</td><td>127.0.0.1:44413</td><td style=\"text-align: right;\">          5</td><td style=\"text-align: right;\">                 2</td><td style=\"text-align: right;\">                  5</td><td style=\"text-align: right;\">            10</td><td style=\"text-align: right;\">     1</td><td style=\"text-align: right;\">       0.020226 </td><td style=\"text-align: right;\">  0.458937</td></tr>\n",
       "<tr><td>train_rf_73a64_00088</td><td>TERMINATED</td><td>127.0.0.1:44409</td><td style=\"text-align: right;\">         15</td><td style=\"text-align: right;\">                 6</td><td style=\"text-align: right;\">                 10</td><td style=\"text-align: right;\">           100</td><td style=\"text-align: right;\">     1</td><td style=\"text-align: right;\">       0.120804 </td><td style=\"text-align: right;\">  0.532908</td></tr>\n",
       "<tr><td>train_rf_73a64_00089</td><td>TERMINATED</td><td>127.0.0.1:44411</td><td style=\"text-align: right;\">          5</td><td style=\"text-align: right;\">                 4</td><td style=\"text-align: right;\">                 10</td><td style=\"text-align: right;\">           100</td><td style=\"text-align: right;\">     1</td><td style=\"text-align: right;\">       0.136352 </td><td style=\"text-align: right;\">  0.481662</td></tr>\n",
       "<tr><td>train_rf_73a64_00090</td><td>TERMINATED</td><td>127.0.0.1:44413</td><td style=\"text-align: right;\">          5</td><td style=\"text-align: right;\">                 6</td><td style=\"text-align: right;\">                 10</td><td style=\"text-align: right;\">           100</td><td style=\"text-align: right;\">     1</td><td style=\"text-align: right;\">       0.119926 </td><td style=\"text-align: right;\">  0.485865</td></tr>\n",
       "<tr><td>train_rf_73a64_00091</td><td>TERMINATED</td><td>127.0.0.1:44415</td><td style=\"text-align: right;\">         10</td><td style=\"text-align: right;\">                 6</td><td style=\"text-align: right;\">                  2</td><td style=\"text-align: right;\">           200</td><td style=\"text-align: right;\">     1</td><td style=\"text-align: right;\">       0.297326 </td><td style=\"text-align: right;\">  0.498802</td></tr>\n",
       "<tr><td>train_rf_73a64_00092</td><td>TERMINATED</td><td>127.0.0.1:44413</td><td style=\"text-align: right;\">         15</td><td style=\"text-align: right;\">                 1</td><td style=\"text-align: right;\">                  5</td><td style=\"text-align: right;\">           200</td><td style=\"text-align: right;\">     1</td><td style=\"text-align: right;\">       0.255567 </td><td style=\"text-align: right;\">  0.513759</td></tr>\n",
       "<tr><td>train_rf_73a64_00093</td><td>TERMINATED</td><td>127.0.0.1:44408</td><td style=\"text-align: right;\">         15</td><td style=\"text-align: right;\">                 1</td><td style=\"text-align: right;\">                  5</td><td style=\"text-align: right;\">            10</td><td style=\"text-align: right;\">     1</td><td style=\"text-align: right;\">       0.02584  </td><td style=\"text-align: right;\">  0.524822</td></tr>\n",
       "<tr><td>train_rf_73a64_00094</td><td>TERMINATED</td><td>127.0.0.1:44410</td><td style=\"text-align: right;\">         15</td><td style=\"text-align: right;\">                 6</td><td style=\"text-align: right;\">                  5</td><td style=\"text-align: right;\">           200</td><td style=\"text-align: right;\">     1</td><td style=\"text-align: right;\">       0.237973 </td><td style=\"text-align: right;\">  0.498678</td></tr>\n",
       "<tr><td>train_rf_73a64_00095</td><td>TERMINATED</td><td>127.0.0.1:44408</td><td style=\"text-align: right;\">         10</td><td style=\"text-align: right;\">                 4</td><td style=\"text-align: right;\">                  2</td><td style=\"text-align: right;\">            10</td><td style=\"text-align: right;\">     1</td><td style=\"text-align: right;\">       0.0286338</td><td style=\"text-align: right;\">  0.516296</td></tr>\n",
       "<tr><td>train_rf_73a64_00096</td><td>TERMINATED</td><td>127.0.0.1:44414</td><td style=\"text-align: right;\">          5</td><td style=\"text-align: right;\">                 6</td><td style=\"text-align: right;\">                  2</td><td style=\"text-align: right;\">           100</td><td style=\"text-align: right;\">     1</td><td style=\"text-align: right;\">       0.123826 </td><td style=\"text-align: right;\">  0.485865</td></tr>\n",
       "<tr><td>train_rf_73a64_00097</td><td>TERMINATED</td><td>127.0.0.1:44412</td><td style=\"text-align: right;\">          5</td><td style=\"text-align: right;\">                 6</td><td style=\"text-align: right;\">                  5</td><td style=\"text-align: right;\">           100</td><td style=\"text-align: right;\">     1</td><td style=\"text-align: right;\">       0.169765 </td><td style=\"text-align: right;\">  0.485865</td></tr>\n",
       "<tr><td>train_rf_73a64_00098</td><td>TERMINATED</td><td>127.0.0.1:44414</td><td style=\"text-align: right;\">          5</td><td style=\"text-align: right;\">                 1</td><td style=\"text-align: right;\">                  5</td><td style=\"text-align: right;\">            50</td><td style=\"text-align: right;\">     1</td><td style=\"text-align: right;\">       0.090431 </td><td style=\"text-align: right;\">  0.501793</td></tr>\n",
       "<tr><td>train_rf_73a64_00099</td><td>TERMINATED</td><td>127.0.0.1:44411</td><td style=\"text-align: right;\">         10</td><td style=\"text-align: right;\">                 6</td><td style=\"text-align: right;\">                 10</td><td style=\"text-align: right;\">           200</td><td style=\"text-align: right;\">     1</td><td style=\"text-align: right;\">       0.309143 </td><td style=\"text-align: right;\">  0.498802</td></tr>\n",
       "<tr><td>train_rf_73a64_00100</td><td>TERMINATED</td><td>127.0.0.1:44414</td><td style=\"text-align: right;\">         15</td><td style=\"text-align: right;\">                 4</td><td style=\"text-align: right;\">                  5</td><td style=\"text-align: right;\">           200</td><td style=\"text-align: right;\">     1</td><td style=\"text-align: right;\">       0.295039 </td><td style=\"text-align: right;\">  0.55711 </td></tr>\n",
       "<tr><td>train_rf_73a64_00101</td><td>TERMINATED</td><td>127.0.0.1:44410</td><td style=\"text-align: right;\">         10</td><td style=\"text-align: right;\">                 6</td><td style=\"text-align: right;\">                 10</td><td style=\"text-align: right;\">           200</td><td style=\"text-align: right;\">     1</td><td style=\"text-align: right;\">       0.298938 </td><td style=\"text-align: right;\">  0.498802</td></tr>\n",
       "<tr><td>train_rf_73a64_00102</td><td>TERMINATED</td><td>127.0.0.1:44409</td><td style=\"text-align: right;\">          5</td><td style=\"text-align: right;\">                 4</td><td style=\"text-align: right;\">                 10</td><td style=\"text-align: right;\">           100</td><td style=\"text-align: right;\">     1</td><td style=\"text-align: right;\">       0.117835 </td><td style=\"text-align: right;\">  0.481662</td></tr>\n",
       "<tr><td>train_rf_73a64_00103</td><td>TERMINATED</td><td>127.0.0.1:44415</td><td style=\"text-align: right;\">         15</td><td style=\"text-align: right;\">                 1</td><td style=\"text-align: right;\">                 10</td><td style=\"text-align: right;\">            10</td><td style=\"text-align: right;\">     1</td><td style=\"text-align: right;\">       0.022949 </td><td style=\"text-align: right;\">  0.470748</td></tr>\n",
       "<tr><td>train_rf_73a64_00104</td><td>TERMINATED</td><td>127.0.0.1:44411</td><td style=\"text-align: right;\">         10</td><td style=\"text-align: right;\">                 1</td><td style=\"text-align: right;\">                  2</td><td style=\"text-align: right;\">            50</td><td style=\"text-align: right;\">     1</td><td style=\"text-align: right;\">       0.0771117</td><td style=\"text-align: right;\">  0.533257</td></tr>\n",
       "<tr><td>train_rf_73a64_00105</td><td>TERMINATED</td><td>127.0.0.1:44413</td><td style=\"text-align: right;\">          5</td><td style=\"text-align: right;\">                 1</td><td style=\"text-align: right;\">                  2</td><td style=\"text-align: right;\">           200</td><td style=\"text-align: right;\">     1</td><td style=\"text-align: right;\">       0.229411 </td><td style=\"text-align: right;\">  0.524994</td></tr>\n",
       "<tr><td>train_rf_73a64_00106</td><td>TERMINATED</td><td>127.0.0.1:44409</td><td style=\"text-align: right;\">         20</td><td style=\"text-align: right;\">                 4</td><td style=\"text-align: right;\">                 10</td><td style=\"text-align: right;\">           100</td><td style=\"text-align: right;\">     1</td><td style=\"text-align: right;\">       0.124402 </td><td style=\"text-align: right;\">  0.519794</td></tr>\n",
       "<tr><td>train_rf_73a64_00107</td><td>TERMINATED</td><td>127.0.0.1:44414</td><td style=\"text-align: right;\">          5</td><td style=\"text-align: right;\">                 4</td><td style=\"text-align: right;\">                  2</td><td style=\"text-align: right;\">            50</td><td style=\"text-align: right;\">     1</td><td style=\"text-align: right;\">       0.0586812</td><td style=\"text-align: right;\">  0.521625</td></tr>\n",
       "<tr><td>train_rf_73a64_00108</td><td>TERMINATED</td><td>127.0.0.1:44415</td><td style=\"text-align: right;\">         20</td><td style=\"text-align: right;\">                 1</td><td style=\"text-align: right;\">                 10</td><td style=\"text-align: right;\">           100</td><td style=\"text-align: right;\">     1</td><td style=\"text-align: right;\">       0.117922 </td><td style=\"text-align: right;\">  0.538376</td></tr>\n",
       "<tr><td>train_rf_73a64_00109</td><td>TERMINATED</td><td>127.0.0.1:44408</td><td style=\"text-align: right;\">          5</td><td style=\"text-align: right;\">                 4</td><td style=\"text-align: right;\">                  5</td><td style=\"text-align: right;\">           200</td><td style=\"text-align: right;\">     1</td><td style=\"text-align: right;\">       0.278792 </td><td style=\"text-align: right;\">  0.4977  </td></tr>\n",
       "<tr><td>train_rf_73a64_00110</td><td>TERMINATED</td><td>127.0.0.1:44408</td><td style=\"text-align: right;\">          5</td><td style=\"text-align: right;\">                 2</td><td style=\"text-align: right;\">                  2</td><td style=\"text-align: right;\">            10</td><td style=\"text-align: right;\">     1</td><td style=\"text-align: right;\">       0.0221848</td><td style=\"text-align: right;\">  0.445445</td></tr>\n",
       "<tr><td>train_rf_73a64_00111</td><td>TERMINATED</td><td>127.0.0.1:44414</td><td style=\"text-align: right;\">         20</td><td style=\"text-align: right;\">                 1</td><td style=\"text-align: right;\">                  5</td><td style=\"text-align: right;\">           200</td><td style=\"text-align: right;\">     1</td><td style=\"text-align: right;\">       0.358581 </td><td style=\"text-align: right;\">  0.519221</td></tr>\n",
       "<tr><td>train_rf_73a64_00112</td><td>TERMINATED</td><td>127.0.0.1:44410</td><td style=\"text-align: right;\">         10</td><td style=\"text-align: right;\">                 6</td><td style=\"text-align: right;\">                 10</td><td style=\"text-align: right;\">            50</td><td style=\"text-align: right;\">     1</td><td style=\"text-align: right;\">       0.0687921</td><td style=\"text-align: right;\">  0.494598</td></tr>\n",
       "<tr><td>train_rf_73a64_00113</td><td>TERMINATED</td><td>127.0.0.1:44412</td><td style=\"text-align: right;\">          5</td><td style=\"text-align: right;\">                 4</td><td style=\"text-align: right;\">                  2</td><td style=\"text-align: right;\">           100</td><td style=\"text-align: right;\">     1</td><td style=\"text-align: right;\">       0.139074 </td><td style=\"text-align: right;\">  0.516203</td></tr>\n",
       "<tr><td>train_rf_73a64_00114</td><td>TERMINATED</td><td>127.0.0.1:44411</td><td style=\"text-align: right;\">         10</td><td style=\"text-align: right;\">                 4</td><td style=\"text-align: right;\">                  2</td><td style=\"text-align: right;\">           100</td><td style=\"text-align: right;\">     1</td><td style=\"text-align: right;\">       0.158396 </td><td style=\"text-align: right;\">  0.564634</td></tr>\n",
       "<tr><td>train_rf_73a64_00115</td><td>TERMINATED</td><td>127.0.0.1:44410</td><td style=\"text-align: right;\">         15</td><td style=\"text-align: right;\">                 6</td><td style=\"text-align: right;\">                 10</td><td style=\"text-align: right;\">            10</td><td style=\"text-align: right;\">     1</td><td style=\"text-align: right;\">       0.0162838</td><td style=\"text-align: right;\">  0.413532</td></tr>\n",
       "<tr><td>train_rf_73a64_00116</td><td>TERMINATED</td><td>127.0.0.1:44410</td><td style=\"text-align: right;\">         10</td><td style=\"text-align: right;\">                 4</td><td style=\"text-align: right;\">                 10</td><td style=\"text-align: right;\">            10</td><td style=\"text-align: right;\">     1</td><td style=\"text-align: right;\">       0.0165718</td><td style=\"text-align: right;\">  0.468882</td></tr>\n",
       "<tr><td>train_rf_73a64_00117</td><td>TERMINATED</td><td>127.0.0.1:44411</td><td style=\"text-align: right;\">         15</td><td style=\"text-align: right;\">                 6</td><td style=\"text-align: right;\">                 10</td><td style=\"text-align: right;\">            10</td><td style=\"text-align: right;\">     1</td><td style=\"text-align: right;\">       0.026    </td><td style=\"text-align: right;\">  0.413532</td></tr>\n",
       "<tr><td>train_rf_73a64_00118</td><td>TERMINATED</td><td>127.0.0.1:44415</td><td style=\"text-align: right;\">         15</td><td style=\"text-align: right;\">                 4</td><td style=\"text-align: right;\">                 10</td><td style=\"text-align: right;\">           200</td><td style=\"text-align: right;\">     1</td><td style=\"text-align: right;\">       0.278384 </td><td style=\"text-align: right;\">  0.561212</td></tr>\n",
       "<tr><td>train_rf_73a64_00119</td><td>TERMINATED</td><td>127.0.0.1:44408</td><td style=\"text-align: right;\">          5</td><td style=\"text-align: right;\">                 1</td><td style=\"text-align: right;\">                  2</td><td style=\"text-align: right;\">            50</td><td style=\"text-align: right;\">     1</td><td style=\"text-align: right;\">       0.0643618</td><td style=\"text-align: right;\">  0.516267</td></tr>\n",
       "<tr><td>train_rf_73a64_00120</td><td>TERMINATED</td><td>127.0.0.1:44414</td><td style=\"text-align: right;\">         20</td><td style=\"text-align: right;\">                 4</td><td style=\"text-align: right;\">                 10</td><td style=\"text-align: right;\">           100</td><td style=\"text-align: right;\">     1</td><td style=\"text-align: right;\">       0.12732  </td><td style=\"text-align: right;\">  0.519794</td></tr>\n",
       "<tr><td>train_rf_73a64_00121</td><td>TERMINATED</td><td>127.0.0.1:44412</td><td style=\"text-align: right;\">          5</td><td style=\"text-align: right;\">                 6</td><td style=\"text-align: right;\">                  2</td><td style=\"text-align: right;\">            10</td><td style=\"text-align: right;\">     1</td><td style=\"text-align: right;\">       0.021755 </td><td style=\"text-align: right;\">  0.445277</td></tr>\n",
       "<tr><td>train_rf_73a64_00122</td><td>TERMINATED</td><td>127.0.0.1:44409</td><td style=\"text-align: right;\">         20</td><td style=\"text-align: right;\">                 2</td><td style=\"text-align: right;\">                 10</td><td style=\"text-align: right;\">            50</td><td style=\"text-align: right;\">     1</td><td style=\"text-align: right;\">       0.0787952</td><td style=\"text-align: right;\">  0.504374</td></tr>\n",
       "<tr><td>train_rf_73a64_00123</td><td>TERMINATED</td><td>127.0.0.1:44410</td><td style=\"text-align: right;\">          5</td><td style=\"text-align: right;\">                 1</td><td style=\"text-align: right;\">                 10</td><td style=\"text-align: right;\">            50</td><td style=\"text-align: right;\">     1</td><td style=\"text-align: right;\">       0.0684237</td><td style=\"text-align: right;\">  0.50466 </td></tr>\n",
       "<tr><td>train_rf_73a64_00124</td><td>TERMINATED</td><td>127.0.0.1:44413</td><td style=\"text-align: right;\">          5</td><td style=\"text-align: right;\">                 4</td><td style=\"text-align: right;\">                 10</td><td style=\"text-align: right;\">           200</td><td style=\"text-align: right;\">     1</td><td style=\"text-align: right;\">       0.2852   </td><td style=\"text-align: right;\">  0.499136</td></tr>\n",
       "<tr><td>train_rf_73a64_00125</td><td>TERMINATED</td><td>127.0.0.1:44412</td><td style=\"text-align: right;\">         20</td><td style=\"text-align: right;\">                 6</td><td style=\"text-align: right;\">                 10</td><td style=\"text-align: right;\">           200</td><td style=\"text-align: right;\">     1</td><td style=\"text-align: right;\">       0.270422 </td><td style=\"text-align: right;\">  0.498678</td></tr>\n",
       "<tr><td>train_rf_73a64_00126</td><td>TERMINATED</td><td>127.0.0.1:44409</td><td style=\"text-align: right;\">         20</td><td style=\"text-align: right;\">                 2</td><td style=\"text-align: right;\">                  2</td><td style=\"text-align: right;\">           100</td><td style=\"text-align: right;\">     1</td><td style=\"text-align: right;\">       0.137467 </td><td style=\"text-align: right;\">  0.530761</td></tr>\n",
       "<tr><td>train_rf_73a64_00127</td><td>TERMINATED</td><td>127.0.0.1:44410</td><td style=\"text-align: right;\">          5</td><td style=\"text-align: right;\">                 2</td><td style=\"text-align: right;\">                 10</td><td style=\"text-align: right;\">           100</td><td style=\"text-align: right;\">     1</td><td style=\"text-align: right;\">       0.117103 </td><td style=\"text-align: right;\">  0.490091</td></tr>\n",
       "<tr><td>train_rf_73a64_00128</td><td>TERMINATED</td><td>127.0.0.1:44415</td><td style=\"text-align: right;\">         20</td><td style=\"text-align: right;\">                 4</td><td style=\"text-align: right;\">                 10</td><td style=\"text-align: right;\">            50</td><td style=\"text-align: right;\">     1</td><td style=\"text-align: right;\">       0.0626209</td><td style=\"text-align: right;\">  0.538687</td></tr>\n",
       "<tr><td>train_rf_73a64_00129</td><td>TERMINATED</td><td>127.0.0.1:44408</td><td style=\"text-align: right;\">         15</td><td style=\"text-align: right;\">                 1</td><td style=\"text-align: right;\">                 10</td><td style=\"text-align: right;\">            50</td><td style=\"text-align: right;\">     1</td><td style=\"text-align: right;\">       0.0618272</td><td style=\"text-align: right;\">  0.494821</td></tr>\n",
       "<tr><td>train_rf_73a64_00130</td><td>TERMINATED</td><td>127.0.0.1:44409</td><td style=\"text-align: right;\">         20</td><td style=\"text-align: right;\">                 1</td><td style=\"text-align: right;\">                 10</td><td style=\"text-align: right;\">            50</td><td style=\"text-align: right;\">     1</td><td style=\"text-align: right;\">       0.0638881</td><td style=\"text-align: right;\">  0.504653</td></tr>\n",
       "<tr><td>train_rf_73a64_00131</td><td>TERMINATED</td><td>127.0.0.1:44414</td><td style=\"text-align: right;\">         15</td><td style=\"text-align: right;\">                 4</td><td style=\"text-align: right;\">                  5</td><td style=\"text-align: right;\">           100</td><td style=\"text-align: right;\">     1</td><td style=\"text-align: right;\">       0.123446 </td><td style=\"text-align: right;\">  0.55222 </td></tr>\n",
       "<tr><td>train_rf_73a64_00132</td><td>TERMINATED</td><td>127.0.0.1:44410</td><td style=\"text-align: right;\">         20</td><td style=\"text-align: right;\">                 1</td><td style=\"text-align: right;\">                  2</td><td style=\"text-align: right;\">           200</td><td style=\"text-align: right;\">     1</td><td style=\"text-align: right;\">       0.437633 </td><td style=\"text-align: right;\">  0.509194</td></tr>\n",
       "<tr><td>train_rf_73a64_00133</td><td>TERMINATED</td><td>127.0.0.1:44411</td><td style=\"text-align: right;\">         15</td><td style=\"text-align: right;\">                 4</td><td style=\"text-align: right;\">                  2</td><td style=\"text-align: right;\">           100</td><td style=\"text-align: right;\">     1</td><td style=\"text-align: right;\">       0.116797 </td><td style=\"text-align: right;\">  0.55222 </td></tr>\n",
       "<tr><td>train_rf_73a64_00134</td><td>TERMINATED</td><td>127.0.0.1:44415</td><td style=\"text-align: right;\">         20</td><td style=\"text-align: right;\">                 6</td><td style=\"text-align: right;\">                  2</td><td style=\"text-align: right;\">           200</td><td style=\"text-align: right;\">     1</td><td style=\"text-align: right;\">       0.293514 </td><td style=\"text-align: right;\">  0.498678</td></tr>\n",
       "<tr><td>train_rf_73a64_00135</td><td>TERMINATED</td><td>127.0.0.1:44408</td><td style=\"text-align: right;\">          5</td><td style=\"text-align: right;\">                 2</td><td style=\"text-align: right;\">                 10</td><td style=\"text-align: right;\">           200</td><td style=\"text-align: right;\">     1</td><td style=\"text-align: right;\">       0.294406 </td><td style=\"text-align: right;\">  0.498915</td></tr>\n",
       "<tr><td>train_rf_73a64_00136</td><td>TERMINATED</td><td>127.0.0.1:44409</td><td style=\"text-align: right;\">         20</td><td style=\"text-align: right;\">                 2</td><td style=\"text-align: right;\">                  5</td><td style=\"text-align: right;\">           100</td><td style=\"text-align: right;\">     1</td><td style=\"text-align: right;\">       0.125895 </td><td style=\"text-align: right;\">  0.53494 </td></tr>\n",
       "<tr><td>train_rf_73a64_00137</td><td>TERMINATED</td><td>127.0.0.1:44409</td><td style=\"text-align: right;\">         15</td><td style=\"text-align: right;\">                 2</td><td style=\"text-align: right;\">                  5</td><td style=\"text-align: right;\">            10</td><td style=\"text-align: right;\">     1</td><td style=\"text-align: right;\">       0.047112 </td><td style=\"text-align: right;\">  0.485523</td></tr>\n",
       "<tr><td>train_rf_73a64_00138</td><td>TERMINATED</td><td>127.0.0.1:44409</td><td style=\"text-align: right;\">          5</td><td style=\"text-align: right;\">                 1</td><td style=\"text-align: right;\">                  5</td><td style=\"text-align: right;\">           100</td><td style=\"text-align: right;\">     1</td><td style=\"text-align: right;\">       0.161621 </td><td style=\"text-align: right;\">  0.488894</td></tr>\n",
       "<tr><td>train_rf_73a64_00139</td><td>TERMINATED</td><td>127.0.0.1:44413</td><td style=\"text-align: right;\">          5</td><td style=\"text-align: right;\">                 2</td><td style=\"text-align: right;\">                  5</td><td style=\"text-align: right;\">           100</td><td style=\"text-align: right;\">     1</td><td style=\"text-align: right;\">       0.142921 </td><td style=\"text-align: right;\">  0.529262</td></tr>\n",
       "<tr><td>train_rf_73a64_00140</td><td>TERMINATED</td><td>127.0.0.1:44414</td><td style=\"text-align: right;\">          5</td><td style=\"text-align: right;\">                 4</td><td style=\"text-align: right;\">                  2</td><td style=\"text-align: right;\">           200</td><td style=\"text-align: right;\">     1</td><td style=\"text-align: right;\">       0.274298 </td><td style=\"text-align: right;\">  0.4977  </td></tr>\n",
       "<tr><td>train_rf_73a64_00141</td><td>TERMINATED</td><td>127.0.0.1:44412</td><td style=\"text-align: right;\">         20</td><td style=\"text-align: right;\">                 2</td><td style=\"text-align: right;\">                  5</td><td style=\"text-align: right;\">            10</td><td style=\"text-align: right;\">     1</td><td style=\"text-align: right;\">       0.026283 </td><td style=\"text-align: right;\">  0.485523</td></tr>\n",
       "<tr><td>train_rf_73a64_00142</td><td>TERMINATED</td><td>127.0.0.1:44408</td><td style=\"text-align: right;\">         20</td><td style=\"text-align: right;\">                 4</td><td style=\"text-align: right;\">                  5</td><td style=\"text-align: right;\">            10</td><td style=\"text-align: right;\">     1</td><td style=\"text-align: right;\">       0.017205 </td><td style=\"text-align: right;\">  0.501278</td></tr>\n",
       "<tr><td>train_rf_73a64_00143</td><td>TERMINATED</td><td>127.0.0.1:44414</td><td style=\"text-align: right;\">         10</td><td style=\"text-align: right;\">                 1</td><td style=\"text-align: right;\">                  5</td><td style=\"text-align: right;\">            50</td><td style=\"text-align: right;\">     1</td><td style=\"text-align: right;\">       0.089783 </td><td style=\"text-align: right;\">  0.514102</td></tr>\n",
       "<tr><td>train_rf_73a64_00144</td><td>TERMINATED</td><td>127.0.0.1:44411</td><td style=\"text-align: right;\">         10</td><td style=\"text-align: right;\">                 4</td><td style=\"text-align: right;\">                 10</td><td style=\"text-align: right;\">            50</td><td style=\"text-align: right;\">     1</td><td style=\"text-align: right;\">       0.0604849</td><td style=\"text-align: right;\">  0.537999</td></tr>\n",
       "<tr><td>train_rf_73a64_00145</td><td>TERMINATED</td><td>127.0.0.1:44412</td><td style=\"text-align: right;\">         15</td><td style=\"text-align: right;\">                 4</td><td style=\"text-align: right;\">                  5</td><td style=\"text-align: right;\">            50</td><td style=\"text-align: right;\">     1</td><td style=\"text-align: right;\">       0.0621238</td><td style=\"text-align: right;\">  0.547179</td></tr>\n",
       "<tr><td>train_rf_73a64_00146</td><td>TERMINATED</td><td>127.0.0.1:44411</td><td style=\"text-align: right;\">         20</td><td style=\"text-align: right;\">                 1</td><td style=\"text-align: right;\">                  2</td><td style=\"text-align: right;\">            10</td><td style=\"text-align: right;\">     1</td><td style=\"text-align: right;\">       0.0177841</td><td style=\"text-align: right;\">  0.556881</td></tr>\n",
       "<tr><td>train_rf_73a64_00147</td><td>TERMINATED</td><td>127.0.0.1:44410</td><td style=\"text-align: right;\">         20</td><td style=\"text-align: right;\">                 6</td><td style=\"text-align: right;\">                 10</td><td style=\"text-align: right;\">            10</td><td style=\"text-align: right;\">     1</td><td style=\"text-align: right;\">       0.0227828</td><td style=\"text-align: right;\">  0.413532</td></tr>\n",
       "<tr><td>train_rf_73a64_00148</td><td>TERMINATED</td><td>127.0.0.1:44412</td><td style=\"text-align: right;\">          5</td><td style=\"text-align: right;\">                 1</td><td style=\"text-align: right;\">                  5</td><td style=\"text-align: right;\">           200</td><td style=\"text-align: right;\">     1</td><td style=\"text-align: right;\">       0.216676 </td><td style=\"text-align: right;\">  0.5117  </td></tr>\n",
       "<tr><td>train_rf_73a64_00149</td><td>TERMINATED</td><td>127.0.0.1:44414</td><td style=\"text-align: right;\">         10</td><td style=\"text-align: right;\">                 6</td><td style=\"text-align: right;\">                  2</td><td style=\"text-align: right;\">            10</td><td style=\"text-align: right;\">     1</td><td style=\"text-align: right;\">       0.0227308</td><td style=\"text-align: right;\">  0.427431</td></tr>\n",
       "<tr><td>train_rf_73a64_00150</td><td>TERMINATED</td><td>127.0.0.1:44408</td><td style=\"text-align: right;\">         20</td><td style=\"text-align: right;\">                 2</td><td style=\"text-align: right;\">                  2</td><td style=\"text-align: right;\">            50</td><td style=\"text-align: right;\">     1</td><td style=\"text-align: right;\">       0.06511  </td><td style=\"text-align: right;\">  0.516939</td></tr>\n",
       "<tr><td>train_rf_73a64_00151</td><td>TERMINATED</td><td>127.0.0.1:44413</td><td style=\"text-align: right;\">         15</td><td style=\"text-align: right;\">                 1</td><td style=\"text-align: right;\">                  2</td><td style=\"text-align: right;\">           200</td><td style=\"text-align: right;\">     1</td><td style=\"text-align: right;\">       0.326884 </td><td style=\"text-align: right;\">  0.520367</td></tr>\n",
       "<tr><td>train_rf_73a64_00152</td><td>TERMINATED</td><td>127.0.0.1:44412</td><td style=\"text-align: right;\">         10</td><td style=\"text-align: right;\">                 1</td><td style=\"text-align: right;\">                  2</td><td style=\"text-align: right;\">           200</td><td style=\"text-align: right;\">     1</td><td style=\"text-align: right;\">       0.355305 </td><td style=\"text-align: right;\">  0.508297</td></tr>\n",
       "<tr><td>train_rf_73a64_00153</td><td>TERMINATED</td><td>127.0.0.1:44415</td><td style=\"text-align: right;\">         15</td><td style=\"text-align: right;\">                 2</td><td style=\"text-align: right;\">                 10</td><td style=\"text-align: right;\">            50</td><td style=\"text-align: right;\">     1</td><td style=\"text-align: right;\">       0.0589259</td><td style=\"text-align: right;\">  0.504374</td></tr>\n",
       "<tr><td>train_rf_73a64_00154</td><td>TERMINATED</td><td>127.0.0.1:44410</td><td style=\"text-align: right;\">         20</td><td style=\"text-align: right;\">                 2</td><td style=\"text-align: right;\">                 10</td><td style=\"text-align: right;\">            50</td><td style=\"text-align: right;\">     1</td><td style=\"text-align: right;\">       0.0647407</td><td style=\"text-align: right;\">  0.504374</td></tr>\n",
       "<tr><td>train_rf_73a64_00155</td><td>TERMINATED</td><td>127.0.0.1:44409</td><td style=\"text-align: right;\">         15</td><td style=\"text-align: right;\">                 4</td><td style=\"text-align: right;\">                 10</td><td style=\"text-align: right;\">           100</td><td style=\"text-align: right;\">     1</td><td style=\"text-align: right;\">       0.118786 </td><td style=\"text-align: right;\">  0.519794</td></tr>\n",
       "<tr><td>train_rf_73a64_00156</td><td>TERMINATED</td><td>127.0.0.1:44411</td><td style=\"text-align: right;\">         10</td><td style=\"text-align: right;\">                 4</td><td style=\"text-align: right;\">                  5</td><td style=\"text-align: right;\">           200</td><td style=\"text-align: right;\">     1</td><td style=\"text-align: right;\">       0.320492 </td><td style=\"text-align: right;\">  0.537788</td></tr>\n",
       "<tr><td>train_rf_73a64_00157</td><td>TERMINATED</td><td>127.0.0.1:44409</td><td style=\"text-align: right;\">          5</td><td style=\"text-align: right;\">                 4</td><td style=\"text-align: right;\">                 10</td><td style=\"text-align: right;\">           200</td><td style=\"text-align: right;\">     1</td><td style=\"text-align: right;\">       0.228842 </td><td style=\"text-align: right;\">  0.499136</td></tr>\n",
       "<tr><td>train_rf_73a64_00158</td><td>TERMINATED</td><td>127.0.0.1:44408</td><td style=\"text-align: right;\">         20</td><td style=\"text-align: right;\">                 2</td><td style=\"text-align: right;\">                  2</td><td style=\"text-align: right;\">            10</td><td style=\"text-align: right;\">     1</td><td style=\"text-align: right;\">       0.017545 </td><td style=\"text-align: right;\">  0.54156 </td></tr>\n",
       "<tr><td>train_rf_73a64_00159</td><td>TERMINATED</td><td>127.0.0.1:44411</td><td style=\"text-align: right;\">         15</td><td style=\"text-align: right;\">                 4</td><td style=\"text-align: right;\">                  5</td><td style=\"text-align: right;\">            50</td><td style=\"text-align: right;\">     1</td><td style=\"text-align: right;\">       0.0601931</td><td style=\"text-align: right;\">  0.547179</td></tr>\n",
       "<tr><td>train_rf_73a64_00160</td><td>TERMINATED</td><td>127.0.0.1:44413</td><td style=\"text-align: right;\">         15</td><td style=\"text-align: right;\">                 1</td><td style=\"text-align: right;\">                  5</td><td style=\"text-align: right;\">           100</td><td style=\"text-align: right;\">     1</td><td style=\"text-align: right;\">       0.13646  </td><td style=\"text-align: right;\">  0.542099</td></tr>\n",
       "<tr><td>train_rf_73a64_00161</td><td>TERMINATED</td><td>127.0.0.1:44415</td><td style=\"text-align: right;\">         10</td><td style=\"text-align: right;\">                 6</td><td style=\"text-align: right;\">                  5</td><td style=\"text-align: right;\">           200</td><td style=\"text-align: right;\">     1</td><td style=\"text-align: right;\">       0.236021 </td><td style=\"text-align: right;\">  0.498802</td></tr>\n",
       "<tr><td>train_rf_73a64_00162</td><td>TERMINATED</td><td>127.0.0.1:44408</td><td style=\"text-align: right;\">          5</td><td style=\"text-align: right;\">                 1</td><td style=\"text-align: right;\">                  5</td><td style=\"text-align: right;\">            50</td><td style=\"text-align: right;\">     1</td><td style=\"text-align: right;\">       0.059818 </td><td style=\"text-align: right;\">  0.501793</td></tr>\n",
       "<tr><td>train_rf_73a64_00163</td><td>TERMINATED</td><td>127.0.0.1:44414</td><td style=\"text-align: right;\">         15</td><td style=\"text-align: right;\">                 6</td><td style=\"text-align: right;\">                 10</td><td style=\"text-align: right;\">            50</td><td style=\"text-align: right;\">     1</td><td style=\"text-align: right;\">       0.0596151</td><td style=\"text-align: right;\">  0.510274</td></tr>\n",
       "<tr><td>train_rf_73a64_00164</td><td>TERMINATED</td><td>127.0.0.1:44415</td><td style=\"text-align: right;\">          5</td><td style=\"text-align: right;\">                 2</td><td style=\"text-align: right;\">                 10</td><td style=\"text-align: right;\">            10</td><td style=\"text-align: right;\">     1</td><td style=\"text-align: right;\">       0.0155659</td><td style=\"text-align: right;\">  0.460994</td></tr>\n",
       "<tr><td>train_rf_73a64_00165</td><td>TERMINATED</td><td>127.0.0.1:44411</td><td style=\"text-align: right;\">         15</td><td style=\"text-align: right;\">                 4</td><td style=\"text-align: right;\">                  2</td><td style=\"text-align: right;\">           200</td><td style=\"text-align: right;\">     1</td><td style=\"text-align: right;\">       0.240997 </td><td style=\"text-align: right;\">  0.55711 </td></tr>\n",
       "<tr><td>train_rf_73a64_00166</td><td>TERMINATED</td><td>127.0.0.1:44410</td><td style=\"text-align: right;\">         15</td><td style=\"text-align: right;\">                 6</td><td style=\"text-align: right;\">                  2</td><td style=\"text-align: right;\">            50</td><td style=\"text-align: right;\">     1</td><td style=\"text-align: right;\">       0.0615432</td><td style=\"text-align: right;\">  0.510274</td></tr>\n",
       "<tr><td>train_rf_73a64_00167</td><td>TERMINATED</td><td>127.0.0.1:44410</td><td style=\"text-align: right;\">         15</td><td style=\"text-align: right;\">                 2</td><td style=\"text-align: right;\">                 10</td><td style=\"text-align: right;\">            50</td><td style=\"text-align: right;\">     1</td><td style=\"text-align: right;\">       0.0712061</td><td style=\"text-align: right;\">  0.504374</td></tr>\n",
       "<tr><td>train_rf_73a64_00168</td><td>TERMINATED</td><td>127.0.0.1:44411</td><td style=\"text-align: right;\">         10</td><td style=\"text-align: right;\">                 2</td><td style=\"text-align: right;\">                  2</td><td style=\"text-align: right;\">            10</td><td style=\"text-align: right;\">     1</td><td style=\"text-align: right;\">       0.0175958</td><td style=\"text-align: right;\">  0.497162</td></tr>\n",
       "<tr><td>train_rf_73a64_00169</td><td>TERMINATED</td><td>127.0.0.1:44413</td><td style=\"text-align: right;\">         10</td><td style=\"text-align: right;\">                 1</td><td style=\"text-align: right;\">                  2</td><td style=\"text-align: right;\">           200</td><td style=\"text-align: right;\">     1</td><td style=\"text-align: right;\">       0.287222 </td><td style=\"text-align: right;\">  0.508297</td></tr>\n",
       "<tr><td>train_rf_73a64_00170</td><td>TERMINATED</td><td>127.0.0.1:44412</td><td style=\"text-align: right;\">          5</td><td style=\"text-align: right;\">                 2</td><td style=\"text-align: right;\">                  2</td><td style=\"text-align: right;\">           100</td><td style=\"text-align: right;\">     1</td><td style=\"text-align: right;\">       0.130797 </td><td style=\"text-align: right;\">  0.504949</td></tr>\n",
       "<tr><td>train_rf_73a64_00171</td><td>TERMINATED</td><td>127.0.0.1:44414</td><td style=\"text-align: right;\">         15</td><td style=\"text-align: right;\">                 1</td><td style=\"text-align: right;\">                  2</td><td style=\"text-align: right;\">            10</td><td style=\"text-align: right;\">     1</td><td style=\"text-align: right;\">       0.0299139</td><td style=\"text-align: right;\">  0.568974</td></tr>\n",
       "<tr><td>train_rf_73a64_00172</td><td>TERMINATED</td><td>127.0.0.1:44408</td><td style=\"text-align: right;\">         20</td><td style=\"text-align: right;\">                 6</td><td style=\"text-align: right;\">                  5</td><td style=\"text-align: right;\">           100</td><td style=\"text-align: right;\">     1</td><td style=\"text-align: right;\">       0.130303 </td><td style=\"text-align: right;\">  0.532908</td></tr>\n",
       "<tr><td>train_rf_73a64_00173</td><td>TERMINATED</td><td>127.0.0.1:44410</td><td style=\"text-align: right;\">          5</td><td style=\"text-align: right;\">                 2</td><td style=\"text-align: right;\">                  2</td><td style=\"text-align: right;\">           100</td><td style=\"text-align: right;\">     1</td><td style=\"text-align: right;\">       0.120408 </td><td style=\"text-align: right;\">  0.504949</td></tr>\n",
       "<tr><td>train_rf_73a64_00174</td><td>TERMINATED</td><td>127.0.0.1:44413</td><td style=\"text-align: right;\">         10</td><td style=\"text-align: right;\">                 6</td><td style=\"text-align: right;\">                  5</td><td style=\"text-align: right;\">            10</td><td style=\"text-align: right;\">     1</td><td style=\"text-align: right;\">       0.0164962</td><td style=\"text-align: right;\">  0.427431</td></tr>\n",
       "<tr><td>train_rf_73a64_00175</td><td>TERMINATED</td><td>127.0.0.1:44412</td><td style=\"text-align: right;\">         10</td><td style=\"text-align: right;\">                 2</td><td style=\"text-align: right;\">                  5</td><td style=\"text-align: right;\">            50</td><td style=\"text-align: right;\">     1</td><td style=\"text-align: right;\">       0.0667992</td><td style=\"text-align: right;\">  0.490945</td></tr>\n",
       "<tr><td>train_rf_73a64_00176</td><td>TERMINATED</td><td>127.0.0.1:44408</td><td style=\"text-align: right;\">         10</td><td style=\"text-align: right;\">                 1</td><td style=\"text-align: right;\">                  2</td><td style=\"text-align: right;\">            10</td><td style=\"text-align: right;\">     1</td><td style=\"text-align: right;\">       0.0250649</td><td style=\"text-align: right;\">  0.520358</td></tr>\n",
       "<tr><td>train_rf_73a64_00177</td><td>TERMINATED</td><td>127.0.0.1:44415</td><td style=\"text-align: right;\">          5</td><td style=\"text-align: right;\">                 6</td><td style=\"text-align: right;\">                 10</td><td style=\"text-align: right;\">           200</td><td style=\"text-align: right;\">     1</td><td style=\"text-align: right;\">       0.228482 </td><td style=\"text-align: right;\">  0.480068</td></tr>\n",
       "<tr><td>train_rf_73a64_00178</td><td>TERMINATED</td><td>127.0.0.1:44409</td><td style=\"text-align: right;\">         15</td><td style=\"text-align: right;\">                 4</td><td style=\"text-align: right;\">                  5</td><td style=\"text-align: right;\">            50</td><td style=\"text-align: right;\">     1</td><td style=\"text-align: right;\">       0.0635421</td><td style=\"text-align: right;\">  0.547179</td></tr>\n",
       "<tr><td>train_rf_73a64_00179</td><td>TERMINATED</td><td>127.0.0.1:44411</td><td style=\"text-align: right;\">         20</td><td style=\"text-align: right;\">                 1</td><td style=\"text-align: right;\">                 10</td><td style=\"text-align: right;\">            10</td><td style=\"text-align: right;\">     1</td><td style=\"text-align: right;\">       0.0167091</td><td style=\"text-align: right;\">  0.470748</td></tr>\n",
       "<tr><td>train_rf_73a64_00180</td><td>TERMINATED</td><td>127.0.0.1:44409</td><td style=\"text-align: right;\">         20</td><td style=\"text-align: right;\">                 2</td><td style=\"text-align: right;\">                 10</td><td style=\"text-align: right;\">            50</td><td style=\"text-align: right;\">     1</td><td style=\"text-align: right;\">       0.075069 </td><td style=\"text-align: right;\">  0.504374</td></tr>\n",
       "<tr><td>train_rf_73a64_00181</td><td>TERMINATED</td><td>127.0.0.1:44413</td><td style=\"text-align: right;\">         10</td><td style=\"text-align: right;\">                 6</td><td style=\"text-align: right;\">                 10</td><td style=\"text-align: right;\">           100</td><td style=\"text-align: right;\">     1</td><td style=\"text-align: right;\">       0.162016 </td><td style=\"text-align: right;\">  0.532908</td></tr>\n",
       "<tr><td>train_rf_73a64_00182</td><td>TERMINATED</td><td>127.0.0.1:44414</td><td style=\"text-align: right;\">         10</td><td style=\"text-align: right;\">                 1</td><td style=\"text-align: right;\">                  2</td><td style=\"text-align: right;\">           200</td><td style=\"text-align: right;\">     1</td><td style=\"text-align: right;\">       0.288539 </td><td style=\"text-align: right;\">  0.508297</td></tr>\n",
       "<tr><td>train_rf_73a64_00183</td><td>TERMINATED</td><td>127.0.0.1:44411</td><td style=\"text-align: right;\">          5</td><td style=\"text-align: right;\">                 1</td><td style=\"text-align: right;\">                 10</td><td style=\"text-align: right;\">            10</td><td style=\"text-align: right;\">     1</td><td style=\"text-align: right;\">       0.019793 </td><td style=\"text-align: right;\">  0.44359 </td></tr>\n",
       "<tr><td>train_rf_73a64_00184</td><td>TERMINATED</td><td>127.0.0.1:44412</td><td style=\"text-align: right;\">         15</td><td style=\"text-align: right;\">                 4</td><td style=\"text-align: right;\">                 10</td><td style=\"text-align: right;\">           200</td><td style=\"text-align: right;\">     1</td><td style=\"text-align: right;\">       0.313515 </td><td style=\"text-align: right;\">  0.561212</td></tr>\n",
       "<tr><td>train_rf_73a64_00185</td><td>TERMINATED</td><td>127.0.0.1:44415</td><td style=\"text-align: right;\">         15</td><td style=\"text-align: right;\">                 1</td><td style=\"text-align: right;\">                  2</td><td style=\"text-align: right;\">            50</td><td style=\"text-align: right;\">     1</td><td style=\"text-align: right;\">       0.093575 </td><td style=\"text-align: right;\">  0.498104</td></tr>\n",
       "<tr><td>train_rf_73a64_00186</td><td>TERMINATED</td><td>127.0.0.1:44411</td><td style=\"text-align: right;\">         20</td><td style=\"text-align: right;\">                 2</td><td style=\"text-align: right;\">                  5</td><td style=\"text-align: right;\">            10</td><td style=\"text-align: right;\">     1</td><td style=\"text-align: right;\">       0.0235751</td><td style=\"text-align: right;\">  0.485523</td></tr>\n",
       "<tr><td>train_rf_73a64_00187</td><td>TERMINATED</td><td>127.0.0.1:44409</td><td style=\"text-align: right;\">         10</td><td style=\"text-align: right;\">                 1</td><td style=\"text-align: right;\">                  2</td><td style=\"text-align: right;\">            10</td><td style=\"text-align: right;\">     1</td><td style=\"text-align: right;\">       0.0247939</td><td style=\"text-align: right;\">  0.520358</td></tr>\n",
       "<tr><td>train_rf_73a64_00188</td><td>TERMINATED</td><td>127.0.0.1:44414</td><td style=\"text-align: right;\">         15</td><td style=\"text-align: right;\">                 1</td><td style=\"text-align: right;\">                  2</td><td style=\"text-align: right;\">           100</td><td style=\"text-align: right;\">     1</td><td style=\"text-align: right;\">       0.188146 </td><td style=\"text-align: right;\">  0.491863</td></tr>\n",
       "<tr><td>train_rf_73a64_00189</td><td>TERMINATED</td><td>127.0.0.1:44413</td><td style=\"text-align: right;\">         20</td><td style=\"text-align: right;\">                 2</td><td style=\"text-align: right;\">                 10</td><td style=\"text-align: right;\">            50</td><td style=\"text-align: right;\">     1</td><td style=\"text-align: right;\">       0.0691812</td><td style=\"text-align: right;\">  0.504374</td></tr>\n",
       "<tr><td>train_rf_73a64_00190</td><td>TERMINATED</td><td>127.0.0.1:44408</td><td style=\"text-align: right;\">          5</td><td style=\"text-align: right;\">                 2</td><td style=\"text-align: right;\">                  5</td><td style=\"text-align: right;\">           200</td><td style=\"text-align: right;\">     1</td><td style=\"text-align: right;\">       0.268313 </td><td style=\"text-align: right;\">  0.51945 </td></tr>\n",
       "<tr><td>train_rf_73a64_00191</td><td>TERMINATED</td><td>127.0.0.1:44409</td><td style=\"text-align: right;\">         15</td><td style=\"text-align: right;\">                 4</td><td style=\"text-align: right;\">                  5</td><td style=\"text-align: right;\">            50</td><td style=\"text-align: right;\">     1</td><td style=\"text-align: right;\">       0.089781 </td><td style=\"text-align: right;\">  0.547179</td></tr>\n",
       "<tr><td>train_rf_73a64_00192</td><td>TERMINATED</td><td>127.0.0.1:44411</td><td style=\"text-align: right;\">         20</td><td style=\"text-align: right;\">                 2</td><td style=\"text-align: right;\">                  5</td><td style=\"text-align: right;\">            50</td><td style=\"text-align: right;\">     1</td><td style=\"text-align: right;\">       0.0863342</td><td style=\"text-align: right;\">  0.501102</td></tr>\n",
       "<tr><td>train_rf_73a64_00193</td><td>TERMINATED</td><td>127.0.0.1:44409</td><td style=\"text-align: right;\">         10</td><td style=\"text-align: right;\">                 6</td><td style=\"text-align: right;\">                 10</td><td style=\"text-align: right;\">            10</td><td style=\"text-align: right;\">     1</td><td style=\"text-align: right;\">       0.0294218</td><td style=\"text-align: right;\">  0.427431</td></tr>\n",
       "<tr><td>train_rf_73a64_00194</td><td>TERMINATED</td><td>127.0.0.1:44413</td><td style=\"text-align: right;\">          5</td><td style=\"text-align: right;\">                 4</td><td style=\"text-align: right;\">                  5</td><td style=\"text-align: right;\">           200</td><td style=\"text-align: right;\">     1</td><td style=\"text-align: right;\">       0.248742 </td><td style=\"text-align: right;\">  0.4977  </td></tr>\n",
       "<tr><td>train_rf_73a64_00195</td><td>TERMINATED</td><td>127.0.0.1:44410</td><td style=\"text-align: right;\">         10</td><td style=\"text-align: right;\">                 2</td><td style=\"text-align: right;\">                  5</td><td style=\"text-align: right;\">            50</td><td style=\"text-align: right;\">     1</td><td style=\"text-align: right;\">       0.067636 </td><td style=\"text-align: right;\">  0.490945</td></tr>\n",
       "<tr><td>train_rf_73a64_00196</td><td>TERMINATED</td><td>127.0.0.1:44408</td><td style=\"text-align: right;\">          5</td><td style=\"text-align: right;\">                 4</td><td style=\"text-align: right;\">                 10</td><td style=\"text-align: right;\">           100</td><td style=\"text-align: right;\">     1</td><td style=\"text-align: right;\">       0.160301 </td><td style=\"text-align: right;\">  0.481662</td></tr>\n",
       "<tr><td>train_rf_73a64_00197</td><td>TERMINATED</td><td>127.0.0.1:44411</td><td style=\"text-align: right;\">         20</td><td style=\"text-align: right;\">                 2</td><td style=\"text-align: right;\">                  2</td><td style=\"text-align: right;\">            10</td><td style=\"text-align: right;\">     1</td><td style=\"text-align: right;\">       0.0300848</td><td style=\"text-align: right;\">  0.54156 </td></tr>\n",
       "<tr><td>train_rf_73a64_00198</td><td>TERMINATED</td><td>127.0.0.1:44410</td><td style=\"text-align: right;\">          5</td><td style=\"text-align: right;\">                 4</td><td style=\"text-align: right;\">                  2</td><td style=\"text-align: right;\">           200</td><td style=\"text-align: right;\">     1</td><td style=\"text-align: right;\">       0.295094 </td><td style=\"text-align: right;\">  0.4977  </td></tr>\n",
       "<tr><td>train_rf_73a64_00199</td><td>TERMINATED</td><td>127.0.0.1:44415</td><td style=\"text-align: right;\">         15</td><td style=\"text-align: right;\">                 4</td><td style=\"text-align: right;\">                  2</td><td style=\"text-align: right;\">           200</td><td style=\"text-align: right;\">     1</td><td style=\"text-align: right;\">       0.24662  </td><td style=\"text-align: right;\">  0.55711 </td></tr>\n",
       "</tbody>\n",
       "</table>\n",
       "  </div>\n",
       "</div>\n",
       "<style>\n",
       ".tuneStatus {\n",
       "  color: var(--jp-ui-font-color1);\n",
       "}\n",
       ".tuneStatus .systemInfo {\n",
       "  display: flex;\n",
       "  flex-direction: column;\n",
       "}\n",
       ".tuneStatus td {\n",
       "  white-space: nowrap;\n",
       "}\n",
       ".tuneStatus .trialStatus {\n",
       "  display: flex;\n",
       "  flex-direction: column;\n",
       "}\n",
       ".tuneStatus h3 {\n",
       "  font-weight: bold;\n",
       "}\n",
       ".tuneStatus .hDivider {\n",
       "  border-bottom-width: var(--jp-border-width);\n",
       "  border-bottom-color: var(--jp-border-color0);\n",
       "  border-bottom-style: solid;\n",
       "}\n",
       ".tuneStatus .vDivider {\n",
       "  border-left-width: var(--jp-border-width);\n",
       "  border-left-color: var(--jp-border-color0);\n",
       "  border-left-style: solid;\n",
       "  margin: 0.5em 1em 0.5em 1em;\n",
       "}\n",
       "</style>\n"
      ],
      "text/plain": [
       "<IPython.core.display.HTML object>"
      ]
     },
     "metadata": {},
     "output_type": "display_data"
    },
    {
     "name": "stderr",
     "output_type": "stream",
     "text": [
      "2024-03-16 16:09:13,977\tINFO tune.py:1042 -- Total run time: 10.85 seconds (8.81 seconds for the tuning loop).\n"
     ]
    },
    {
     "name": "stdout",
     "output_type": "stream",
     "text": [
      "Best hyperparameters found were:  {'n_estimators': 10, 'max_depth': 15, 'min_samples_split': 2, 'min_samples_leaf': 1}\n"
     ]
    }
   ],
   "source": [
    "def train_rf(config: dict, data=None):\n",
    "    \n",
    "    # Initialize the RandomForestClassifier with the configuration\n",
    "    classifier = RandomForestClassifier(\n",
    "        n_estimators=config[\"n_estimators\"],\n",
    "        max_depth=config[\"max_depth\"],\n",
    "        min_samples_split=config[\"min_samples_split\"],\n",
    "        min_samples_leaf=config[\"min_samples_leaf\"],\n",
    "        class_weight=\"balanced\",\n",
    "        random_state=42\n",
    "    )\n",
    "    \n",
    "    # Fit the RandomForestClassifier on the training data\n",
    "    X_train = data[0]\n",
    "    y_train = data[1]\n",
    "    X_validation = data[2]\n",
    "    y_validation = data[3]\n",
    "\n",
    "    # To Be filled: Train your Random Forest Classifier here\n",
    "    classifier.fit(X_train, y_train)\n",
    "    \n",
    "    # To Be filled: Evaluate the classifier on the validation \n",
    "    # set here and get evaluation accuracy \n",
    "    prediction = classifier.predict(X_validation)\n",
    "    acc1 = acc(y_validation, prediction)\n",
    "    \n",
    "    # Send the accuracy to Ray Tune\n",
    "    train.report({'accuracy': acc1})\n",
    "\n",
    "# note that X_train, y_train, X_validation, y_validation \n",
    "# are your training and validation data.\n",
    "tunable_function = tune.with_parameters(train_rf, \n",
    "                data=[X_train, y_train, X_val, y_val])\n",
    "\n",
    "def tune_random_forest(smoke_test=False):\n",
    "    # Define the search space for hyperparameters\n",
    "    search_space = {\n",
    "        \"n_estimators\": tune.choice([10, 50, 100, 200]),\n",
    "        \"max_depth\": tune.choice([5, 10, 15, 20]),\n",
    "        \"min_samples_split\": tune.choice([2, 5, 10]),\n",
    "        \"min_samples_leaf\": tune.choice([1, 2, 4, 6]) \n",
    "    }\n",
    "    \n",
    "    # Define the scheduler for early stopping\n",
    "    scheduler = ASHAScheduler(\n",
    "        max_t= 100, \n",
    "        grace_period= 10, \n",
    "        reduction_factor= 2\n",
    "    )\n",
    "    \n",
    "    # Set up the tuner\n",
    "    tuner = tune.Tuner(\n",
    "        tunable_function,\n",
    "        tune_config=tune.TuneConfig(\n",
    "            metric=\"accuracy\",\n",
    "            mode=\"max\",\n",
    "            scheduler=scheduler,\n",
    "            num_samples=1 if smoke_test else 200,\n",
    "        ),\n",
    "        param_space=search_space,\n",
    "    )\n",
    "    \n",
    "    # Execute the tuning process\n",
    "    results = tuner.fit()\n",
    "    \n",
    "    return results\n",
    "\n",
    "# Run the tuning function\n",
    "best_results = tune_random_forest(smoke_test=False)\n",
    "best_trial = best_results.get_best_result(metric=\"accuracy\", mode=\"max\")\n",
    "\n",
    "# Get the best trial's hyperparameters\n",
    "best_params = best_trial.config\n",
    "\n",
    "# Print the best hyperparameters\n",
    "print(\"Best hyperparameters found were: \", best_params)\n",
    "\n",
    "# Initialize a new RandomForestClassifier with the best hyperparameters\n",
    "best_rf = RandomForestClassifier(**best_params, random_state=42)"
   ]
  },
  {
   "cell_type": "code",
   "execution_count": 19,
   "metadata": {},
   "outputs": [
    {
     "name": "stdout",
     "output_type": "stream",
     "text": [
      "Accuracy: 0.5584740334740335\n"
     ]
    }
   ],
   "source": [
    "best_rf.fit(X_train, y_train)\n",
    "y_pred = best_rf.predict(X_test)\n",
    "\n",
    "# evaluate the accuracy on test dataset\n",
    "print(\"Accuracy:\", acc(y_test, y_pred))"
   ]
  },
  {
   "cell_type": "markdown",
   "metadata": {},
   "source": [
    "# Additional Tweaking and External Test Set Benchmark"
   ]
  },
  {
   "cell_type": "markdown",
   "metadata": {},
   "source": [
    "### Utilizing different classifiers, XGBoost with cross validation (cv=5)"
   ]
  },
  {
   "cell_type": "code",
   "execution_count": 20,
   "metadata": {},
   "outputs": [
    {
     "name": "stdout",
     "output_type": "stream",
     "text": [
      "Best parameters: {'max_depth': 6, 'min_child_weight': 6, 'n_estimators': 10}\n",
      "Best score: 0.5255811044714565\n",
      "Test set accuracy:  0.5631701631701632\n"
     ]
    }
   ],
   "source": [
    "# Intialize the XGBoost\n",
    "xgb_clf = xgb.XGBClassifier(reg_alpha=0.8)\n",
    "\n",
    "# define the parameters for grid search\n",
    "param_grid = {\n",
    "    'n_estimators': [4, 6 ,8 ,10],\n",
    "    'max_depth': [4, 6, 8, 10],\n",
    "    'min_child_weight': [4, 6, 8, 10]\n",
    "}\n",
    "\n",
    "# customize the function for evaluation\n",
    "custom_scorer = make_scorer(acc, greater_is_better=True)\n",
    "\n",
    "# tune parameters based on cross validation (k=5)\n",
    "grid_search = GridSearchCV(estimator=xgb_clf, \n",
    "                           param_grid=param_grid, \n",
    "                           scoring=custom_scorer, cv=5)\n",
    "grid_search.fit(X_trainval, y_trainval)\n",
    "\n",
    "print(\"Best parameters:\", grid_search.best_params_)\n",
    "print(\"Best score:\", grid_search.best_score_)\n",
    "\n",
    "# evaluate the accuracy on test dataset\n",
    "y_pred = grid_search.predict(X_test)\n",
    "\n",
    "print(\"Test set accuracy: \", acc(y_pred, y_test))"
   ]
  },
  {
   "cell_type": "markdown",
   "metadata": {},
   "source": [
    "##### Generally speaking, XGBoost has better predictive performance than random forests, because it focuses more on misclassified samples by reducing the residuals of the previous predictions. Meanwhile, XGBoost effectively controls the problem of model overfitting through regularization, such as setting alpha to 0.8 in my code. In this code, grid search is used to search for the best parameters of XGBoost and added cross validation, setting the cv to 5 to prevent randomness in the prediction results.\n",
    "\n",
    "##### When I switched the model from random forest to XGBoost, the accuracy of the model increased from 55.8% to 56.3%."
   ]
  },
  {
   "cell_type": "markdown",
   "metadata": {},
   "source": [
    "### Addressing issues of class imbalance (with classifier XGBoost)"
   ]
  },
  {
   "cell_type": "code",
   "execution_count": 21,
   "metadata": {},
   "outputs": [
    {
     "data": {
      "text/plain": [
       "0    195\n",
       "1    128\n",
       "2     55\n",
       "3     53\n",
       "4     19\n",
       "Name: num, dtype: int64"
      ]
     },
     "execution_count": 21,
     "metadata": {},
     "output_type": "execute_result"
    }
   ],
   "source": [
    "# Check the quantity of each category \n",
    "# and find that the categories are extremely imbalanced\n",
    "y_trainval.value_counts()"
   ]
  },
  {
   "cell_type": "code",
   "execution_count": 22,
   "metadata": {},
   "outputs": [
    {
     "name": "stdout",
     "output_type": "stream",
     "text": [
      "After SMOTE -- The distribution of each class: \n",
      "0    195\n",
      "1    150\n",
      "2    120\n",
      "3    100\n",
      "4    100\n",
      "Name: num, dtype: int64\n"
     ]
    }
   ],
   "source": [
    "# Using SMOTE method to increase the number of minority categories\n",
    "smo = SMOTE(sampling_strategy={1: 150, 2: 120, 3:100, 4:100})\n",
    "X_sampling, y_sampling = smo.fit_resample(X_trainval, y_trainval)\n",
    "\n",
    "print(\"After SMOTE -- The distribution of each class: \")\n",
    "print(y_sampling.value_counts())"
   ]
  },
  {
   "cell_type": "code",
   "execution_count": 23,
   "metadata": {},
   "outputs": [
    {
     "name": "stdout",
     "output_type": "stream",
     "text": [
      "Best parameters: {'max_depth': 10, 'min_child_weight': 4, 'n_estimators': 10}\n",
      "Best score: 0.6925576227191002\n",
      "Test set accuracy:  0.6207948717948718\n"
     ]
    }
   ],
   "source": [
    "# Intialize the XGBoost\n",
    "xgb_clf_balance = xgb.XGBClassifier(reg_alpha=0.8)\n",
    "\n",
    "# tune parameters based on cross validation (k=5)\n",
    "grid_search_balance = GridSearchCV(estimator=xgb_clf_balance, \n",
    "                                   param_grid=param_grid, \n",
    "                                   scoring=custom_scorer, cv=5)\n",
    "grid_search_balance.fit(X_sampling, y_sampling)\n",
    "\n",
    "print(\"Best parameters:\", grid_search_balance.best_params_)\n",
    "print(\"Best score:\", grid_search_balance.best_score_)\n",
    "\n",
    "# evaluate the accuracy on test dataset\n",
    "y_pred = grid_search_balance.predict(X_test)\n",
    "\n",
    "print(\"Test set accuracy: \", acc(y_pred, y_test))"
   ]
  },
  {
   "cell_type": "markdown",
   "metadata": {},
   "source": [
    "##### If we print out the number of each category, we can see that this dataset is highly imbalanced. Class 0 has a maximum of 195 data (43.3% of train dataset), but the minimum of 4 categories has only 19 data (4.2% of train dataset), the imbalance ratio reaches 10:1. Unbalanced data can lead to a trained model with good training results for categories with large samples but poor training results for categories with few samples, as the model cannot learn features from minority categories.\n",
    "\n",
    "##### There are usually two ways to handle data imbalance, which are upsampling and downsampling. Due to the small sample size of this dataset, downsampling the majority category may result in the model not being able to fully learn the features of the majority category. Therefore, the SMOTE method is used to upsample the minority category. It can be observed from the result that the evaluation (0.5 * f1 + 0.5 * accuracy) of the model on the test dataset increased by 6.4% compared to using only XGBoost."
   ]
  },
  {
   "cell_type": "markdown",
   "metadata": {},
   "source": [
    "### Write the test data into a csv"
   ]
  },
  {
   "cell_type": "code",
   "execution_count": null,
   "metadata": {},
   "outputs": [],
   "source": [
    "# prepare the test dataset of external_test.csv with preproccessing\n",
    "test_data = pd.read_csv(\"heart_disease/'+ 'test.csv\")\n",
    "test_data = rf_missing_value(null_feature, test_data)\n",
    "test_data_encoded = pd.get_dummies(test_data)\n",
    "\n",
    "# train the XGBoost model based on best parameters\n",
    "best_config = grid_search_balance.best_params_\n",
    "\n",
    "best_xgb_clf = xgb.XGBClassifier(**best_config, reg_alpha=1.0)\n",
    "best_xgb_clf.fit(feature, label)\n",
    "\n",
    "# output the predicted labels\n",
    "test_feature = test_data_encoded.drop(columns=['patient_id'])\n",
    "patient_id = test_data_encoded['patient_id']\n",
    "\n",
    "test_pred = best_xgb_clf.predict(test_feature)"
   ]
  },
  {
   "cell_type": "code",
   "execution_count": 25,
   "metadata": {},
   "outputs": [],
   "source": [
    "# store patient_id and predicted labels in to a dataframe\n",
    "results_df = pd.DataFrame({\n",
    "    'patient_id': patient_id,\n",
    "    'prediction': test_pred\n",
    "})"
   ]
  },
  {
   "cell_type": "code",
   "execution_count": null,
   "metadata": {},
   "outputs": [],
   "source": [
    "# store the dataframe into a csv\n",
    "results_df.to_csv('test_result.csv', index=False)"
   ]
  },
  {
   "cell_type": "markdown",
   "metadata": {},
   "source": [
    "# Result Analysis"
   ]
  },
  {
   "cell_type": "markdown",
   "metadata": {},
   "source": [
    "### Compute critical performance matrix and confusion matrix (XGBoost)"
   ]
  },
  {
   "cell_type": "code",
   "execution_count": 27,
   "metadata": {},
   "outputs": [
    {
     "name": "stdout",
     "output_type": "stream",
     "text": [
      "XGBoost\n",
      "\n",
      "accuracy is:  0.7538461538461538\n",
      "f1 score is:  0.4877435897435897\n",
      "precision is:  0.6461904761904761\n",
      "recall is:  0.4621428571428572\n"
     ]
    }
   ],
   "source": [
    "# define a general evaluation for accuracy, f1_score, precision and recall\n",
    "def evaluation(label, predict):\n",
    "\n",
    "    accuracy = accuracy_score(label, predict)\n",
    "    f1 = f1_score(label, predict, average='macro' )\n",
    "    precision = precision_score(label, predict, average='macro')\n",
    "    recall = recall_score(label, predict, average='macro')\n",
    "\n",
    "    print(f'XGBoost\\n')\n",
    "    print('accuracy is: ', accuracy)\n",
    "    print('f1 score is: ', f1)\n",
    "    print('precision is: ', precision)\n",
    "    print('recall is: ', recall)\n",
    "\n",
    "evaluation(y_test, y_pred)"
   ]
  },
  {
   "cell_type": "code",
   "execution_count": 28,
   "metadata": {},
   "outputs": [
    {
     "name": "stdout",
     "output_type": "stream",
     "text": [
      "\n",
      "For class 0\n",
      "f1 score is:  0.9066666666666667\n",
      "precision is:  0.85\n",
      "recall is:  0.9714285714285714\n",
      "\n",
      "For class 1\n",
      "f1 score is:  0.6666666666666666\n",
      "precision is:  0.7142857142857143\n",
      "recall is:  0.625\n",
      "\n",
      "For class 2\n",
      "f1 score is:  0.25\n",
      "precision is:  1.0\n",
      "recall is:  0.14285714285714285\n",
      "\n",
      "For class 3\n",
      "f1 score is:  0.6153846153846153\n",
      "precision is:  0.6666666666666666\n",
      "recall is:  0.5714285714285714\n",
      "\n",
      "For class 4\n",
      "f1 score is:  0.0\n",
      "precision is:  0.0\n",
      "recall is:  0.0\n"
     ]
    }
   ],
   "source": [
    "# define a evaluation for each class\n",
    "def evaluation_each_class(label, predict):\n",
    "\n",
    "    f1_each_class = f1_score(label, predict, average=None)\n",
    "    precision_each_class = precision_score(label, predict, average=None)\n",
    "    recall_each_class = recall_score(label, predict, average=None)\n",
    "\n",
    "    for i in range(5):\n",
    "        print(f'\\nFor class {i}')\n",
    "        print('f1 score is: ', f1_each_class[i])\n",
    "        print('precision is: ', precision_each_class[i])\n",
    "        print('recall is: ', recall_each_class[i])\n",
    "\n",
    "evaluation_each_class(y_test, y_pred)"
   ]
  },
  {
   "cell_type": "markdown",
   "metadata": {},
   "source": [
    "##### In the previous code, the number of samples for minority categories (classes 1-4) was increased through SMOTE technique, but the performance on class 4 was still not good. Perhaps it is because there is still a significant deviation between the artificially synthesized data and the actual data, so the model has not yet learned the features of class 4 well. If possible, it is necessary to further increase the accuracy of class 4 by adding real data."
   ]
  },
  {
   "cell_type": "code",
   "execution_count": 29,
   "metadata": {},
   "outputs": [],
   "source": [
    "# define a function to plot the confusion matrix\n",
    "def plot_confusion_matrix(cm, labels_name, title):\n",
    "    plt.imshow(cm, interpolation='nearest', cmap=plt.cm.Oranges)  \n",
    "\n",
    "    # print the labels in each subsquare  \n",
    "    for i in range(len(cm)):\n",
    "        for j in range(len(cm)):\n",
    "            plt.annotate(cm[j, i], xy=(i, j), horizontalalignment='center', verticalalignment='center')\n",
    "\n",
    "\n",
    "    num_local = np.array(range(len(labels_name)))    \n",
    "    \n",
    "    plt.xticks(num_local, labels_name)    \n",
    "    plt.yticks(num_local, labels_name)    \n",
    "    plt.title(title)    \n",
    "    plt.ylabel('True label')    \n",
    "    plt.xlabel('Predicted label')\n"
   ]
  },
  {
   "cell_type": "code",
   "execution_count": 30,
   "metadata": {},
   "outputs": [
    {
     "data": {
      "image/png": "[encoded data removed]",
      "text/plain": [
       "<Figure size 640x480 with 1 Axes>"
      ]
     },
     "metadata": {},
     "output_type": "display_data"
    }
   ],
   "source": [
    "mat = confusion_matrix(y_test, y_pred)\n",
    "plot_confusion_matrix(mat, [0,1,2,3,4], \"Confusion Matrix\")"
   ]
  },
  {
   "cell_type": "markdown",
   "metadata": {},
   "source": [
    "### Feature importance plot (XGBoost)"
   ]
  },
  {
   "cell_type": "code",
   "execution_count": 31,
   "metadata": {},
   "outputs": [
    {
     "data": {
      "text/plain": [
       "<Axes: >"
      ]
     },
     "execution_count": 31,
     "metadata": {},
     "output_type": "execute_result"
    },
    {
     "data": {
      "image/png": "[encoded data removed]",
      "text/plain": [
       "<Figure size 2000x1000 with 1 Axes>"
      ]
     },
     "metadata": {},
     "output_type": "display_data"
    }
   ],
   "source": [
    "# find out the feature importance with best model xgboost\n",
    "importance = best_xgb_clf.get_booster().get_score(importance_type='weight')\n",
    "keys = list(importance.keys())\n",
    "values = list(importance.values())\n",
    "\n",
    "# plot the feature importance of XGBoost\n",
    "data = pd.DataFrame(data=values, index=keys, \n",
    "                    columns=[\"score\"]).sort_values(by = \"score\")\n",
    "data.plot(kind='barh', figsize = (20,10))"
   ]
  },
  {
   "cell_type": "markdown",
   "metadata": {},
   "source": [
    "##### It could be observed from the plot that the most important 3 features are ca, thalch, oldpeak"
   ]
  }
 ],
 "metadata": {
  "kernelspec": {
   "display_name": "Python 3 (ipykernel)",
   "language": "python",
   "name": "python3"
  },
  "language_info": {
   "codemirror_mode": {
    "name": "ipython",
    "version": 3
   },
   "file_extension": ".py",
   "mimetype": "text/x-python",
   "name": "python",
   "nbconvert_exporter": "python",
   "pygments_lexer": "ipython3",
   "version": "3.9.13"
  }
 },
 "nbformat": 4,
 "nbformat_minor": 2
}
